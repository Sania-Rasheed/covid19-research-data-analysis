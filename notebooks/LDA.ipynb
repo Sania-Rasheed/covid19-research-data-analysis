{
 "cells": [
  {
   "cell_type": "markdown",
   "metadata": {},
   "source": [
    "## Haritha Guttikonda (hg5mn@virginia.edu)\n",
    "#### DS 5001\n",
    "#### 28 April 2020\n",
    "\n"
   ]
  },
  {
   "cell_type": "code",
   "execution_count": 36,
   "metadata": {},
   "outputs": [],
   "source": [
    "import pandas as pd\n",
    "import numpy as np\n",
    "from tqdm import tqdm\n",
    "import re\n",
    "from nltk.corpus import stopwords "
   ]
  },
  {
   "cell_type": "code",
   "execution_count": 37,
   "metadata": {},
   "outputs": [],
   "source": [
    "%matplotlib inline"
   ]
  },
  {
   "cell_type": "code",
   "execution_count": 38,
   "metadata": {},
   "outputs": [],
   "source": [
    "def convert_corpus(docs):\n",
    "    \n",
    "    global TOKEN, VOCAB\n",
    "    \n",
    "    # Convert docs into tokens\n",
    "    stop_words = set(stopwords.words('english')) \n",
    "    tokens = []\n",
    "    for i, doc in enumerate(docs):\n",
    "        for j, token in enumerate(doc.split()):\n",
    "            term_str = re.sub(r'[\\W_]+', '', token).lower()\n",
    "            if term_str not in stop_words:\n",
    "                tokens.append((i, j, term_str))\n",
    "    TOKEN = pd.DataFrame(tokens, columns=['doc_id','token_num','term_str'])\\\n",
    "        .set_index(['doc_id','token_num'])\n",
    "    \n",
    "    # Extract vocabulary\n",
    "    VOCAB = TOKEN.term_str.value_counts().to_frame().reset_index()\n",
    "    VOCAB.columns = ['term_str', 'n']\n",
    "    VOCAB.index.name = 'term_id'\n",
    "    TOKEN['term_id'] = TOKEN.term_str.map(VOCAB.reset_index().set_index('term_str').term_id)\n",
    "    "
   ]
  },
  {
   "cell_type": "code",
   "execution_count": 39,
   "metadata": {},
   "outputs": [],
   "source": [
    "def init_model():\n",
    "    \n",
    "    global n_topics, n_docs, n_words, TOKEN, BOW, TOPIC, THETA, PHI, topic_names\n",
    "\n",
    "    # Extract BOW from TOKEN\n",
    "    BOW = TOKEN.groupby(['doc_id', 'term_id']).term_id.count()\\\n",
    "        .to_frame().rename(columns={'term_id':'n'})\n",
    "    \n",
    "    # Normalize n\n",
    "    # May want normalize n to binary or log form\n",
    "    \n",
    "    # Create TOPIC table\n",
    "    TOPIC = pd.DataFrame(index=range(n_topics))\n",
    "    TOPIC.index.name = 'topic_id'\n",
    "    topic_names = TOPIC.index.tolist()\n",
    "    \n",
    "    # Randomly assign topics to words (word = term in BOW)\n",
    "    BOW['topic_id'] = TOPIC.sample(BOW.shape[0], replace=True).index\n",
    "    \n",
    "    # Generete topic-doc count matrix\n",
    "    THETA = BOW.groupby(['topic_id', 'doc_id']).n.sum()\\\n",
    "        .unstack().fillna(0).astype('int')\n",
    "\n",
    "    # Generate term-topic matrix (aka word-topic)\n",
    "    PHI = BOW.groupby(['term_id', 'topic_id']).n.sum()\\\n",
    "        .unstack().fillna(0).astype('int')        \n",
    "\n",
    "    # Get doc and word counts\n",
    "    n_docs = THETA.shape[1]\n",
    "    n_words = PHI.shape[0]\n",
    "  "
   ]
  },
  {
   "cell_type": "code",
   "execution_count": 40,
   "metadata": {},
   "outputs": [],
   "source": [
    "def gibbs_sample(d, w):\n",
    "    \n",
    "    global n_topics, n_docs, n_words, BOW, PHI, THETA, alpha, beta, topic_names\n",
    "    \n",
    "    # Get current topic for word in doc\n",
    "    z1 = BOW.at[(d, w), 'topic_id']\n",
    "    \n",
    "    # Get the number of tokens\n",
    "    n = BOW.at[(d, w), 'n']\n",
    "    \n",
    "    # Remove current assignment from the counts\n",
    "    PHI.at[w, z1] -= 1\n",
    "    THETA.at[z1, d] -= 1\n",
    "\n",
    "    # Sample from the two count matrices\n",
    "    weights = np.zeros(n_topics)\n",
    "    for t in topic_names:\n",
    "        \n",
    "        # How much the topic likes the word\n",
    "        P = (PHI.at[w, t] + alpha) / (PHI[t].sum() + n_words * alpha)\n",
    "        \n",
    "        # How much the document likes the topic\n",
    "        T = (THETA.at[t, d] + beta) / (THETA[d].sum() + n_topics * beta)\n",
    "        \n",
    "        # Append result\n",
    "        weights[t] = P * T\n",
    "            \n",
    "    # Draw new topic value from weighted list of topics\n",
    "    pwgt = weights / weights.sum()\n",
    "    z2 = np.random.choice(topic_names, p=pwgt)\n",
    "    \n",
    "    # Apply the value of the word to the topic  \n",
    "    PHI.at[w, z2] += n\n",
    "    THETA.at[z2, d] += n\n",
    "        \n",
    "    # Update the topic assignment\n",
    "    BOW.at[(d , w), 'topic_id'] = z2"
   ]
  },
  {
   "cell_type": "code",
   "execution_count": 47,
   "metadata": {},
   "outputs": [],
   "source": [
    "def show_results():\n",
    "    \n",
    "    global VOCAB, TOPIC, THETA, PHI, topic_names, docs\n",
    "        \n",
    "    P = PHI[topic_names] / PHI[topic_names].sum()\n",
    "    \n",
    "    P['term_str'] = VOCAB.term_str \n",
    "    for t in topic_names:\n",
    "        top_terms = P.sort_values(t, ascending=False).head(10)[[t, 'term_str']]\n",
    "        print('-' * 80)\n",
    "        print(top_terms)\n",
    "        # Add a string to TOPIC.loc[t, 'top_terms']\n",
    "    \n",
    "    print('-' * 80)\n",
    "    \n",
    "    DOC = THETA.T\n",
    "    DOC['doc'] = docs\n",
    "    print(DOC.head(1000))\n",
    "    \n",
    "    print('-' * 80)\n",
    "    return DOC"
   ]
  },
  {
   "cell_type": "code",
   "execution_count": 48,
   "metadata": {},
   "outputs": [
    {
     "data": {
      "text/html": [
       "<div>\n",
       "<style scoped>\n",
       "    .dataframe tbody tr th:only-of-type {\n",
       "        vertical-align: middle;\n",
       "    }\n",
       "\n",
       "    .dataframe tbody tr th {\n",
       "        vertical-align: top;\n",
       "    }\n",
       "\n",
       "    .dataframe thead th {\n",
       "        text-align: right;\n",
       "    }\n",
       "</style>\n",
       "<table border=\"1\" class=\"dataframe\">\n",
       "  <thead>\n",
       "    <tr style=\"text-align: right;\">\n",
       "      <th></th>\n",
       "      <th>paper_id</th>\n",
       "      <th>text</th>\n",
       "      <th>journal</th>\n",
       "      <th>publish_year</th>\n",
       "      <th>is_covid19</th>\n",
       "      <th>section_num</th>\n",
       "      <th>publish_month</th>\n",
       "    </tr>\n",
       "  </thead>\n",
       "  <tbody>\n",
       "    <tr>\n",
       "      <th>17</th>\n",
       "      <td>24a61244c69f09bc9392bbbb4a97e881ee68dc5e</td>\n",
       "      <td>African swine fever virus (ASFV) is a dsDNA vi...</td>\n",
       "      <td>Cell Discov</td>\n",
       "      <td>2020</td>\n",
       "      <td>True</td>\n",
       "      <td>0</td>\n",
       "      <td>4</td>\n",
       "    </tr>\n",
       "    <tr>\n",
       "      <th>35</th>\n",
       "      <td>12332e3ee5f8253ed8db253e1acb48ea3bc8f27f</td>\n",
       "      <td>OBJECTIVE: According to the WHO coronavirus di...</td>\n",
       "      <td>BMC Res Notes</td>\n",
       "      <td>2020</td>\n",
       "      <td>True</td>\n",
       "      <td>0</td>\n",
       "      <td>4</td>\n",
       "    </tr>\n",
       "    <tr>\n",
       "      <th>289</th>\n",
       "      <td>655b175741b74ae8c98f93fd449c88a147bee96e</td>\n",
       "      <td>INTRODUCTION: In the beginning of 2020, an une...</td>\n",
       "      <td>Arch Acad Emerg Med</td>\n",
       "      <td>2020</td>\n",
       "      <td>True</td>\n",
       "      <td>0</td>\n",
       "      <td>3</td>\n",
       "    </tr>\n",
       "    <tr>\n",
       "      <th>443</th>\n",
       "      <td>188f3e97042155ac1709aa8b74c0755760c3b50d</td>\n",
       "      <td>BACKGROUND: Cancer and transplant patients wit...</td>\n",
       "      <td>Ecancermedicalscience</td>\n",
       "      <td>2020</td>\n",
       "      <td>True</td>\n",
       "      <td>0</td>\n",
       "      <td>3</td>\n",
       "    </tr>\n",
       "    <tr>\n",
       "      <th>456</th>\n",
       "      <td>80993091f576dc7fdbec10552b45b4af5eec2b8b</td>\n",
       "      <td>The ongoing COVID-19 epidemic continues to spr...</td>\n",
       "      <td>J Clin Med</td>\n",
       "      <td>2020</td>\n",
       "      <td>True</td>\n",
       "      <td>0</td>\n",
       "      <td>2</td>\n",
       "    </tr>\n",
       "    <tr>\n",
       "      <th>...</th>\n",
       "      <td>...</td>\n",
       "      <td>...</td>\n",
       "      <td>...</td>\n",
       "      <td>...</td>\n",
       "      <td>...</td>\n",
       "      <td>...</td>\n",
       "      <td>...</td>\n",
       "    </tr>\n",
       "    <tr>\n",
       "      <th>14555</th>\n",
       "      <td>14591bae9b4cf2cfdbd409c0dec9106a13298297</td>\n",
       "      <td>There were 200 people who were initially invit...</td>\n",
       "      <td>Med Sci Monit</td>\n",
       "      <td>2020</td>\n",
       "      <td>True</td>\n",
       "      <td>1</td>\n",
       "      <td>3</td>\n",
       "    </tr>\n",
       "    <tr>\n",
       "      <th>14697</th>\n",
       "      <td>8793343683237029bac548225ba51f403489cd35</td>\n",
       "      <td>Although the published parent studies enrolled...</td>\n",
       "      <td>BMJ Open</td>\n",
       "      <td>2015</td>\n",
       "      <td>True</td>\n",
       "      <td>1</td>\n",
       "      <td>3</td>\n",
       "    </tr>\n",
       "    <tr>\n",
       "      <th>14731</th>\n",
       "      <td>4b36607cdbc54f8006161a9a1839489dd0a51269</td>\n",
       "      <td>The majority of study participants were males ...</td>\n",
       "      <td>Int Health</td>\n",
       "      <td>2020</td>\n",
       "      <td>True</td>\n",
       "      <td>1</td>\n",
       "      <td>2</td>\n",
       "    </tr>\n",
       "    <tr>\n",
       "      <th>14797</th>\n",
       "      <td>606233835c3d6d195b7d230745ccb0fded626aa7</td>\n",
       "      <td>To obtain a general profile of the case distri...</td>\n",
       "      <td>Chin Med J (Engl)</td>\n",
       "      <td>2020</td>\n",
       "      <td>True</td>\n",
       "      <td>1</td>\n",
       "      <td>1</td>\n",
       "    </tr>\n",
       "    <tr>\n",
       "      <th>14835</th>\n",
       "      <td>08a6e7924103b4a001ff84d7db7dcd5560950fa1</td>\n",
       "      <td>The total number of confirmed cases of COVID-1...</td>\n",
       "      <td>Osong Public Health Res Perspect</td>\n",
       "      <td>2020</td>\n",
       "      <td>True</td>\n",
       "      <td>1</td>\n",
       "      <td>4</td>\n",
       "    </tr>\n",
       "  </tbody>\n",
       "</table>\n",
       "<p>156 rows × 7 columns</p>\n",
       "</div>"
      ],
      "text/plain": [
       "                                       paper_id  \\\n",
       "17     24a61244c69f09bc9392bbbb4a97e881ee68dc5e   \n",
       "35     12332e3ee5f8253ed8db253e1acb48ea3bc8f27f   \n",
       "289    655b175741b74ae8c98f93fd449c88a147bee96e   \n",
       "443    188f3e97042155ac1709aa8b74c0755760c3b50d   \n",
       "456    80993091f576dc7fdbec10552b45b4af5eec2b8b   \n",
       "...                                         ...   \n",
       "14555  14591bae9b4cf2cfdbd409c0dec9106a13298297   \n",
       "14697  8793343683237029bac548225ba51f403489cd35   \n",
       "14731  4b36607cdbc54f8006161a9a1839489dd0a51269   \n",
       "14797  606233835c3d6d195b7d230745ccb0fded626aa7   \n",
       "14835  08a6e7924103b4a001ff84d7db7dcd5560950fa1   \n",
       "\n",
       "                                                    text  \\\n",
       "17     African swine fever virus (ASFV) is a dsDNA vi...   \n",
       "35     OBJECTIVE: According to the WHO coronavirus di...   \n",
       "289    INTRODUCTION: In the beginning of 2020, an une...   \n",
       "443    BACKGROUND: Cancer and transplant patients wit...   \n",
       "456    The ongoing COVID-19 epidemic continues to spr...   \n",
       "...                                                  ...   \n",
       "14555  There were 200 people who were initially invit...   \n",
       "14697  Although the published parent studies enrolled...   \n",
       "14731  The majority of study participants were males ...   \n",
       "14797  To obtain a general profile of the case distri...   \n",
       "14835  The total number of confirmed cases of COVID-1...   \n",
       "\n",
       "                                journal  publish_year  is_covid19  \\\n",
       "17                          Cell Discov          2020        True   \n",
       "35                        BMC Res Notes          2020        True   \n",
       "289                 Arch Acad Emerg Med          2020        True   \n",
       "443               Ecancermedicalscience          2020        True   \n",
       "456                          J Clin Med          2020        True   \n",
       "...                                 ...           ...         ...   \n",
       "14555                     Med Sci Monit          2020        True   \n",
       "14697                          BMJ Open          2015        True   \n",
       "14731                        Int Health          2020        True   \n",
       "14797                 Chin Med J (Engl)          2020        True   \n",
       "14835  Osong Public Health Res Perspect          2020        True   \n",
       "\n",
       "       section_num  publish_month  \n",
       "17               0              4  \n",
       "35               0              4  \n",
       "289              0              3  \n",
       "443              0              3  \n",
       "456              0              2  \n",
       "...            ...            ...  \n",
       "14555            1              3  \n",
       "14697            1              3  \n",
       "14731            1              2  \n",
       "14797            1              1  \n",
       "14835            1              4  \n",
       "\n",
       "[156 rows x 7 columns]"
      ]
     },
     "execution_count": 48,
     "metadata": {},
     "output_type": "execute_result"
    }
   ],
   "source": [
    "data = pd.read_csv('../dataset/processed-files/consolidated.csv')\n",
    "data = data[data['is_covid19'] == True]\n",
    "data"
   ]
  },
  {
   "cell_type": "code",
   "execution_count": 50,
   "metadata": {},
   "outputs": [],
   "source": [
    "docs = data.text.tolist()"
   ]
  },
  {
   "cell_type": "code",
   "execution_count": 51,
   "metadata": {},
   "outputs": [],
   "source": [
    "n_topics = 5\n",
    "n_iters = 100\n",
    "alpha = .1\n",
    "beta = .1"
   ]
  },
  {
   "cell_type": "code",
   "execution_count": 52,
   "metadata": {},
   "outputs": [
    {
     "name": "stderr",
     "output_type": "stream",
     "text": [
      "100%|██████████| 100/100 [1:01:40<00:00, 37.01s/it]\n"
     ]
    }
   ],
   "source": [
    "convert_corpus(docs)\n",
    "init_model()\n",
    "for i in tqdm(range(n_iters)):\n",
    "    BOW.apply(lambda x: gibbs_sample(x.name[0], x.name[1]), 1) "
   ]
  },
  {
   "cell_type": "code",
   "execution_count": 53,
   "metadata": {
    "scrolled": true
   },
   "outputs": [
    {
     "name": "stdout",
     "output_type": "stream",
     "text": [
      "--------------------------------------------------------------------------------\n",
      "topic_id         0  term_str\n",
      "term_id                     \n",
      "0         0.102015          \n",
      "3         0.028879         p\n",
      "28        0.020698         e\n",
      "34        0.017263         n\n",
      "73        0.014494         l\n",
      "50        0.009472   sarscov\n",
      "31        0.008129   january\n",
      "132       0.008007     water\n",
      "24        0.007539  sarscov2\n",
      "84        0.007143  positive\n",
      "--------------------------------------------------------------------------------\n",
      "topic_id         1  term_str\n",
      "term_id                     \n",
      "2         0.035521     cases\n",
      "1         0.028803  patients\n",
      "13        0.027034         c\n",
      "0         0.018594          \n",
      "6         0.014292       fig\n",
      "16        0.013938      risk\n",
      "91        0.013390         f\n",
      "63        0.013207         h\n",
      "120       0.010709  endpoint\n",
      "17        0.010407  reported\n",
      "--------------------------------------------------------------------------------\n",
      "topic_id         2   term_str\n",
      "term_id                      \n",
      "4         0.021237    covid19\n",
      "12        0.020125     severe\n",
      "0         0.017182           \n",
      "61        0.012997          g\n",
      "108       0.011503          k\n",
      "39        0.010667  treatment\n",
      "32        0.009860   clinical\n",
      "1         0.009828   patients\n",
      "36        0.009296      viral\n",
      "77        0.009136   2019ncov\n",
      "--------------------------------------------------------------------------------\n",
      "topic_id         3   term_str\n",
      "term_id                      \n",
      "1         0.071367   patients\n",
      "0         0.042869           \n",
      "10        0.033157          j\n",
      "26        0.023926          r\n",
      "54        0.016722          b\n",
      "18        0.016678       care\n",
      "104       0.011217  intensive\n",
      "8         0.010600      study\n",
      "44        0.010525    samples\n",
      "7         0.008705          2\n",
      "--------------------------------------------------------------------------------\n",
      "topic_id         4      term_str\n",
      "term_id                         \n",
      "2         0.017628         cases\n",
      "43        0.013903            ci\n",
      "38        0.013709            95\n",
      "15        0.012981        number\n",
      "35        0.012147          days\n",
      "9         0.010210       results\n",
      "126       0.010121            ga\n",
      "68        0.009605  transmission\n",
      "85        0.009507         cells\n",
      "21        0.008241         group\n",
      "--------------------------------------------------------------------------------\n",
      "topic_id      0     1     2     3      4  \\\n",
      "doc_id                                     \n",
      "0            22  2088     0   210   1004   \n",
      "1           494   217  2940    59    103   \n",
      "2           262   142   550  1459    710   \n",
      "3           429   327  4901    78    149   \n",
      "4           131   363  1494  1071   1181   \n",
      "...         ...   ...   ...   ...    ...   \n",
      "151        7187  1528  1950  2956   9486   \n",
      "152        1678  5139  1608  7382   4418   \n",
      "153        1607  8369  6689   549   1748   \n",
      "154       13065  9297  2085  1473  10744   \n",
      "155         788   513  5477    79   3547   \n",
      "\n",
      "topic_id                                                doc  \n",
      "doc_id                                                       \n",
      "0         African swine fever virus (ASFV) is a dsDNA vi...  \n",
      "1         OBJECTIVE: According to the WHO coronavirus di...  \n",
      "2         INTRODUCTION: In the beginning of 2020, an une...  \n",
      "3         BACKGROUND: Cancer and transplant patients wit...  \n",
      "4         The ongoing COVID-19 epidemic continues to spr...  \n",
      "...                                                     ...  \n",
      "151       There were 200 people who were initially invit...  \n",
      "152       Although the published parent studies enrolled...  \n",
      "153       The majority of study participants were males ...  \n",
      "154       To obtain a general profile of the case distri...  \n",
      "155       The total number of confirmed cases of COVID-1...  \n",
      "\n",
      "[156 rows x 6 columns]\n",
      "--------------------------------------------------------------------------------\n"
     ]
    }
   ],
   "source": [
    "DOC = show_results()"
   ]
  },
  {
   "cell_type": "code",
   "execution_count": 56,
   "metadata": {},
   "outputs": [],
   "source": [
    "DOC.to_csv('../dataset/processed-files/Topic_Distribution.csv')"
   ]
  },
  {
   "cell_type": "markdown",
   "metadata": {},
   "source": [
    "# Using gensim"
   ]
  },
  {
   "cell_type": "code",
   "execution_count": 25,
   "metadata": {},
   "outputs": [],
   "source": [
    "import spacy\n",
    "spacy.load('en')\n",
    "from spacy.lang.en import English\n",
    "parser = English()\n",
    "def tokenize(text):\n",
    "    lda_tokens = []\n",
    "    tokens = parser(text)\n",
    "    for token in tokens:\n",
    "        if token.orth_.isspace():\n",
    "            continue\n",
    "        elif token.like_url:\n",
    "            lda_tokens.append('URL')\n",
    "        elif token.orth_.startswith('@'):\n",
    "            lda_tokens.append('SCREEN_NAME')\n",
    "        else:\n",
    "            lda_tokens.append(token.lower_)\n",
    "    return lda_tokens"
   ]
  },
  {
   "cell_type": "code",
   "execution_count": 26,
   "metadata": {},
   "outputs": [
    {
     "name": "stderr",
     "output_type": "stream",
     "text": [
      "[nltk_data] Downloading package wordnet to /Users/haritha/nltk_data...\n",
      "[nltk_data]   Package wordnet is already up-to-date!\n"
     ]
    }
   ],
   "source": [
    "import nltk\n",
    "nltk.download('wordnet')\n",
    "from nltk.corpus import wordnet as wn\n",
    "def get_lemma(word):\n",
    "    lemma = wn.morphy(word)\n",
    "    if lemma is None:\n",
    "        return word\n",
    "    else:\n",
    "        return lemma\n",
    "    \n",
    "from nltk.stem.wordnet import WordNetLemmatizer\n",
    "def get_lemma2(word):\n",
    "    return WordNetLemmatizer().lemmatize(word)"
   ]
  },
  {
   "cell_type": "code",
   "execution_count": 27,
   "metadata": {},
   "outputs": [
    {
     "name": "stderr",
     "output_type": "stream",
     "text": [
      "[nltk_data] Downloading package stopwords to\n",
      "[nltk_data]     /Users/haritha/nltk_data...\n",
      "[nltk_data]   Package stopwords is already up-to-date!\n"
     ]
    }
   ],
   "source": [
    "nltk.download('stopwords')\n",
    "en_stop = set(nltk.corpus.stopwords.words('english'))"
   ]
  },
  {
   "cell_type": "code",
   "execution_count": 28,
   "metadata": {},
   "outputs": [],
   "source": [
    "def prepare_text_for_lda(text):\n",
    "    tokens = tokenize(text)\n",
    "    tokens = [token for token in tokens if len(token) > 4]\n",
    "    tokens = [token for token in tokens if token not in en_stop]\n",
    "    tokens = [get_lemma(token) for token in tokens]\n",
    "    return tokens"
   ]
  },
  {
   "cell_type": "code",
   "execution_count": 29,
   "metadata": {},
   "outputs": [],
   "source": [
    "import random\n",
    "text_data = []\n",
    "with open('../dataset/processed-files/consolidated.csv') as f:\n",
    "    for line in f:\n",
    "        tokens = prepare_text_for_lda(line)\n",
    "        if random.random() > .99:\n",
    "            #print(tokens)\n",
    "            text_data.append(tokens)"
   ]
  },
  {
   "cell_type": "code",
   "execution_count": 30,
   "metadata": {},
   "outputs": [],
   "source": [
    "from gensim import corpora\n",
    "dictionary = corpora.Dictionary(text_data)\n",
    "corpus = [dictionary.doc2bow(text) for text in text_data]\n",
    "import pickle\n",
    "pickle.dump(corpus, open('corpus.pkl', 'wb'))\n",
    "dictionary.save('dictionary.gensim')"
   ]
  },
  {
   "cell_type": "code",
   "execution_count": 31,
   "metadata": {},
   "outputs": [
    {
     "name": "stdout",
     "output_type": "stream",
     "text": [
      "(0, '0.008*\"model\" + 0.007*\"sample\" + 0.007*\"result\" + 0.006*\"patient\"')\n",
      "(1, '0.011*\"group\" + 0.010*\"virus\" + 0.010*\"infection\" + 0.010*\"figure\"')\n",
      "(2, '0.016*\"virus\" + 0.014*\"cell\" + 0.011*\"infection\" + 0.008*\"show\"')\n",
      "(3, '0.020*\"cell\" + 0.016*\"protein\" + 0.008*\"level\" + 0.008*\"figure\"')\n",
      "(4, '0.014*\"figure\" + 0.008*\"show\" + 0.007*\"result\" + 0.007*\"peptide\"')\n"
     ]
    }
   ],
   "source": [
    "import gensim\n",
    "NUM_TOPICS = 5\n",
    "ldamodel = gensim.models.ldamodel.LdaModel(corpus, num_topics = NUM_TOPICS, id2word=dictionary, passes=15)\n",
    "ldamodel.save('model5.gensim')\n",
    "topics = ldamodel.print_topics(num_words=4)\n",
    "for topic in topics:\n",
    "    print(topic)"
   ]
  },
  {
   "cell_type": "code",
   "execution_count": 35,
   "metadata": {},
   "outputs": [
    {
     "data": {
      "text/plain": [
       "[(0, '0.008*\"model\" + 0.007*\"sample\" + 0.007*\"result\" + 0.006*\"patient\"'),\n",
       " (1, '0.011*\"group\" + 0.010*\"virus\" + 0.010*\"infection\" + 0.010*\"figure\"'),\n",
       " (2, '0.016*\"virus\" + 0.014*\"cell\" + 0.011*\"infection\" + 0.008*\"show\"'),\n",
       " (3, '0.020*\"cell\" + 0.016*\"protein\" + 0.008*\"level\" + 0.008*\"figure\"'),\n",
       " (4, '0.014*\"figure\" + 0.008*\"show\" + 0.007*\"result\" + 0.007*\"peptide\"')]"
      ]
     },
     "execution_count": 35,
     "metadata": {},
     "output_type": "execute_result"
    }
   ],
   "source": [
    "topics"
   ]
  },
  {
   "cell_type": "markdown",
   "metadata": {},
   "source": [
    "#### visualize with pyldavis"
   ]
  },
  {
   "cell_type": "code",
   "execution_count": 32,
   "metadata": {},
   "outputs": [],
   "source": [
    "#pip install pyLDAvis"
   ]
  },
  {
   "cell_type": "code",
   "execution_count": 33,
   "metadata": {},
   "outputs": [
    {
     "name": "stderr",
     "output_type": "stream",
     "text": [
      "/Users/haritha/anaconda3/lib/python3.7/site-packages/pyLDAvis/_prepare.py:257: FutureWarning: Sorting because non-concatenation axis is not aligned. A future version\n",
      "of pandas will change to not sort by default.\n",
      "\n",
      "To accept the future behavior, pass 'sort=False'.\n",
      "\n",
      "To retain the current behavior and silence the warning, pass 'sort=True'.\n",
      "\n",
      "  return pd.concat([default_term_info] + list(topic_dfs))\n"
     ]
    },
    {
     "data": {
      "text/html": [
       "\n",
       "<link rel=\"stylesheet\" type=\"text/css\" href=\"https://cdn.rawgit.com/bmabey/pyLDAvis/files/ldavis.v1.0.0.css\">\n",
       "\n",
       "\n",
       "<div id=\"ldavis_el254691125197852323437734016\"></div>\n",
       "<script type=\"text/javascript\">\n",
       "\n",
       "var ldavis_el254691125197852323437734016_data = {\"mdsDat\": {\"x\": [-0.14466338337079676, -0.004756671016251193, 0.039633519427713544, 0.06804409016327476, 0.041742444796059736], \"y\": [-0.021466406863221554, 0.08946358168716041, 0.020546030175471297, 0.00767420205799593, -0.09621740705740608], \"topics\": [1, 2, 3, 4, 5], \"cluster\": [1, 1, 1, 1, 1], \"Freq\": [14.541171073913574, 16.51555824279785, 30.92437171936035, 21.443931579589844, 16.57496452331543]}, \"tinfo\": {\"Category\": [\"Default\", \"Default\", \"Default\", \"Default\", \"Default\", \"Default\", \"Default\", \"Default\", \"Default\", \"Default\", \"Default\", \"Default\", \"Default\", \"Default\", \"Default\", \"Default\", \"Default\", \"Default\", \"Default\", \"Default\", \"Default\", \"Default\", \"Default\", \"Default\", \"Default\", \"Default\", \"Default\", \"Default\", \"Default\", \"Default\", \"Topic1\", \"Topic1\", \"Topic1\", \"Topic1\", \"Topic1\", \"Topic1\", \"Topic1\", \"Topic1\", \"Topic1\", \"Topic1\", \"Topic1\", \"Topic1\", \"Topic1\", \"Topic1\", \"Topic1\", \"Topic1\", \"Topic1\", \"Topic1\", \"Topic1\", \"Topic1\", \"Topic1\", \"Topic1\", \"Topic1\", \"Topic1\", \"Topic1\", \"Topic1\", \"Topic1\", \"Topic1\", \"Topic1\", \"Topic1\", \"Topic1\", \"Topic1\", \"Topic1\", \"Topic1\", \"Topic1\", \"Topic1\", \"Topic1\", \"Topic1\", \"Topic1\", \"Topic1\", \"Topic1\", \"Topic1\", \"Topic1\", \"Topic1\", \"Topic1\", \"Topic1\", \"Topic1\", \"Topic1\", \"Topic1\", \"Topic1\", \"Topic1\", \"Topic1\", \"Topic1\", \"Topic1\", \"Topic1\", \"Topic1\", \"Topic1\", \"Topic1\", \"Topic1\", \"Topic1\", \"Topic1\", \"Topic1\", \"Topic1\", \"Topic1\", \"Topic1\", \"Topic1\", \"Topic1\", \"Topic1\", \"Topic1\", \"Topic1\", \"Topic1\", \"Topic1\", \"Topic1\", \"Topic1\", \"Topic1\", \"Topic1\", \"Topic1\", \"Topic1\", \"Topic1\", \"Topic1\", \"Topic1\", \"Topic1\", \"Topic2\", \"Topic2\", \"Topic2\", \"Topic2\", \"Topic2\", \"Topic2\", \"Topic2\", \"Topic2\", \"Topic2\", \"Topic2\", \"Topic2\", \"Topic2\", \"Topic2\", \"Topic2\", \"Topic2\", \"Topic2\", \"Topic2\", \"Topic2\", \"Topic2\", \"Topic2\", \"Topic2\", \"Topic2\", \"Topic2\", \"Topic2\", \"Topic2\", \"Topic2\", \"Topic2\", \"Topic2\", \"Topic2\", \"Topic2\", \"Topic2\", \"Topic2\", \"Topic2\", \"Topic2\", \"Topic2\", \"Topic2\", \"Topic2\", \"Topic2\", \"Topic2\", \"Topic2\", \"Topic2\", \"Topic2\", \"Topic2\", \"Topic2\", \"Topic2\", \"Topic2\", \"Topic2\", \"Topic2\", \"Topic2\", \"Topic2\", \"Topic2\", \"Topic2\", \"Topic2\", \"Topic2\", \"Topic2\", \"Topic2\", \"Topic2\", \"Topic2\", \"Topic2\", \"Topic2\", \"Topic2\", \"Topic2\", \"Topic2\", \"Topic2\", \"Topic2\", \"Topic2\", \"Topic2\", \"Topic2\", \"Topic2\", \"Topic2\", \"Topic2\", \"Topic2\", \"Topic2\", \"Topic2\", \"Topic2\", \"Topic2\", \"Topic3\", \"Topic3\", \"Topic3\", \"Topic3\", \"Topic3\", \"Topic3\", \"Topic3\", \"Topic3\", \"Topic3\", \"Topic3\", \"Topic3\", \"Topic3\", \"Topic3\", \"Topic3\", \"Topic3\", \"Topic3\", \"Topic3\", \"Topic3\", \"Topic3\", \"Topic3\", \"Topic3\", \"Topic3\", \"Topic3\", \"Topic3\", \"Topic3\", \"Topic3\", \"Topic3\", \"Topic3\", \"Topic3\", \"Topic3\", \"Topic3\", \"Topic3\", \"Topic3\", \"Topic3\", \"Topic3\", \"Topic3\", \"Topic3\", \"Topic3\", \"Topic3\", \"Topic3\", \"Topic3\", \"Topic3\", \"Topic3\", \"Topic3\", \"Topic3\", \"Topic3\", \"Topic3\", \"Topic3\", \"Topic3\", \"Topic3\", \"Topic3\", \"Topic3\", \"Topic3\", \"Topic3\", \"Topic3\", \"Topic3\", \"Topic3\", \"Topic3\", \"Topic3\", \"Topic3\", \"Topic3\", \"Topic3\", \"Topic3\", \"Topic3\", \"Topic3\", \"Topic3\", \"Topic3\", \"Topic3\", \"Topic3\", \"Topic3\", \"Topic3\", \"Topic3\", \"Topic3\", \"Topic3\", \"Topic4\", \"Topic4\", \"Topic4\", \"Topic4\", \"Topic4\", \"Topic4\", \"Topic4\", \"Topic4\", \"Topic4\", \"Topic4\", \"Topic4\", \"Topic4\", \"Topic4\", \"Topic4\", \"Topic4\", \"Topic4\", \"Topic4\", \"Topic4\", \"Topic4\", \"Topic4\", \"Topic4\", \"Topic4\", \"Topic4\", \"Topic4\", \"Topic4\", \"Topic4\", \"Topic4\", \"Topic4\", \"Topic4\", \"Topic4\", \"Topic4\", \"Topic4\", \"Topic4\", \"Topic4\", \"Topic4\", \"Topic4\", \"Topic4\", \"Topic4\", \"Topic4\", \"Topic4\", \"Topic4\", \"Topic4\", \"Topic4\", \"Topic4\", \"Topic4\", \"Topic4\", \"Topic4\", \"Topic4\", \"Topic4\", \"Topic4\", \"Topic4\", \"Topic4\", \"Topic4\", \"Topic4\", \"Topic4\", \"Topic4\", \"Topic4\", \"Topic4\", \"Topic4\", \"Topic4\", \"Topic4\", \"Topic4\", \"Topic4\", \"Topic4\", \"Topic4\", \"Topic4\", \"Topic4\", \"Topic4\", \"Topic4\", \"Topic4\", \"Topic4\", \"Topic4\", \"Topic4\", \"Topic4\", \"Topic4\", \"Topic4\", \"Topic4\", \"Topic4\", \"Topic5\", \"Topic5\", \"Topic5\", \"Topic5\", \"Topic5\", \"Topic5\", \"Topic5\", \"Topic5\", \"Topic5\", \"Topic5\", \"Topic5\", \"Topic5\", \"Topic5\", \"Topic5\", \"Topic5\", \"Topic5\", \"Topic5\", \"Topic5\", \"Topic5\", \"Topic5\", \"Topic5\", \"Topic5\", \"Topic5\", \"Topic5\", \"Topic5\", \"Topic5\", \"Topic5\", \"Topic5\", \"Topic5\", \"Topic5\", \"Topic5\", \"Topic5\", \"Topic5\", \"Topic5\", \"Topic5\", \"Topic5\", \"Topic5\", \"Topic5\", \"Topic5\", \"Topic5\", \"Topic5\", \"Topic5\", \"Topic5\", \"Topic5\", \"Topic5\", \"Topic5\", \"Topic5\", \"Topic5\", \"Topic5\", \"Topic5\", \"Topic5\", \"Topic5\", \"Topic5\", \"Topic5\", \"Topic5\", \"Topic5\", \"Topic5\", \"Topic5\", \"Topic5\", \"Topic5\", \"Topic5\", \"Topic5\", \"Topic5\", \"Topic5\", \"Topic5\", \"Topic5\", \"Topic5\", \"Topic5\", \"Topic5\", \"Topic5\", \"Topic5\", \"Topic5\"], \"Freq\": [572.0, 83.0, 440.0, 180.0, 125.0, 230.0, 158.0, 465.0, 468.0, 211.0, 294.0, 54.0, 61.0, 165.0, 210.0, 385.0, 47.0, 118.0, 62.0, 213.0, 229.0, 32.0, 250.0, 61.0, 99.0, 102.0, 235.0, 132.0, 54.0, 73.0, 12.4902982711792, 9.260689735412598, 9.249710083007812, 7.603835582733154, 6.775264739990234, 6.770374298095703, 12.772709846496582, 6.752522945404053, 5.933321475982666, 5.928887367248535, 5.918529987335205, 5.124418258666992, 5.125320911407471, 5.123912811279297, 5.123552322387695, 5.1227874755859375, 5.122366905212402, 5.122043132781982, 5.121187210083008, 5.118808746337891, 5.118242263793945, 5.117366790771484, 15.992504119873047, 10.740766525268555, 4.2977614402771, 4.297051906585693, 4.2926249504089355, 4.29110860824585, 4.291780948638916, 4.290855407714844, 9.242937088012695, 8.429712295532227, 4.9535746574401855, 33.920291900634766, 7.37216854095459, 16.50298500061035, 8.488863945007324, 63.045475006103516, 8.433207511901855, 33.787269592285156, 13.133974075317383, 20.434364318847656, 12.015802383422852, 10.08539867401123, 8.03907585144043, 12.623841285705566, 10.955195426940918, 62.673038482666016, 21.997529983520508, 16.19770622253418, 47.22130584716797, 36.011383056640625, 14.391083717346191, 39.374515533447266, 15.512289047241211, 11.481304168701172, 28.89702033996582, 56.400421142578125, 18.446439743041992, 45.316707611083984, 20.509164810180664, 13.590100288391113, 33.906734466552734, 37.19426345825195, 25.205493927001953, 16.486446380615234, 32.92454528808594, 31.26021957397461, 18.114973068237305, 23.617332458496094, 23.970317840576172, 27.53067398071289, 33.23807907104492, 28.19574546813965, 29.878984451293945, 22.2487850189209, 22.810712814331055, 22.15623664855957, 23.461896896362305, 23.064292907714844, 20.15281105041504, 21.673763275146484, 12.704787254333496, 10.182671546936035, 9.363489151000977, 7.684886932373047, 8.445399284362793, 7.653674602508545, 6.85508918762207, 6.850575923919678, 6.0206828117370605, 6.017908096313477, 6.015254020690918, 6.01136589050293, 6.0120439529418945, 5.182681083679199, 5.178735733032227, 5.1781325340271, 4.347250461578369, 4.345730304718018, 4.345436096191406, 4.345356464385986, 4.344226837158203, 4.344162940979004, 5.072300910949707, 4.3442559242248535, 4.329584121704102, 4.318054676055908, 4.246362686157227, 4.246097087860107, 3.51159930229187, 3.510803461074829, 7.690243721008301, 9.715445518493652, 19.222097396850586, 7.630745887756348, 21.78411102294922, 17.640045166015625, 6.778961181640625, 24.796775817871094, 15.177403450012207, 9.343079566955566, 5.515098571777344, 83.9463119506836, 20.809370040893555, 71.42900085449219, 90.24739074707031, 46.66764450073242, 45.738590240478516, 101.65335083007812, 14.79988956451416, 33.37985610961914, 48.99025344848633, 13.124486923217773, 69.5243911743164, 95.57149505615234, 57.96736145019531, 95.68516540527344, 94.2592544555664, 61.24598693847656, 52.48896026611328, 49.406951904296875, 55.24470901489258, 69.01759338378906, 43.989532470703125, 21.637962341308594, 24.939725875854492, 39.44196701049805, 31.360214233398438, 33.60929870605469, 34.10546875, 39.43733215332031, 34.566429138183594, 36.41289138793945, 35.57889938354492, 36.42668151855469, 29.60943031311035, 32.489349365234375, 11.872641563415527, 10.977883338928223, 10.080925941467285, 10.07636833190918, 9.176481246948242, 9.174764633178711, 9.172715187072754, 9.172391891479492, 8.278117179870605, 8.275810241699219, 8.27538776397705, 8.27467155456543, 8.274622917175293, 8.267901420593262, 7.380087852478027, 7.376079559326172, 7.3758978843688965, 7.37327241897583, 7.37330436706543, 7.37263298034668, 7.37053108215332, 7.3498663902282715, 6.478585243225098, 6.475733757019043, 6.476954936981201, 6.47564172744751, 6.475701808929443, 6.4749040603637695, 6.474113464355469, 6.471670150756836, 11.874065399169922, 14.606546401977539, 58.033897399902344, 21.77704429626465, 277.4821472167969, 34.279850006103516, 14.504091262817383, 17.52007293701172, 59.47212219238281, 198.28993225097656, 257.9155578613281, 28.12046241760254, 73.5440444946289, 46.37189865112305, 59.78787612915039, 38.68864822387695, 49.371822357177734, 148.2716522216797, 93.24288940429688, 71.0899429321289, 76.05608367919922, 96.08560943603516, 92.23365783691406, 117.74738311767578, 32.470245361328125, 25.685571670532227, 140.76467895507812, 55.821590423583984, 86.49712371826172, 84.48960876464844, 67.98828887939453, 123.20755004882812, 73.97836303710938, 45.20643997192383, 51.588226318359375, 63.23545837402344, 50.828338623046875, 50.85234832763672, 49.36371994018555, 60.35820388793945, 52.33885192871094, 55.26570510864258, 52.466583251953125, 52.29152297973633, 21.972421646118164, 9.790251731872559, 8.848738670349121, 7.164035797119141, 7.1630425453186035, 16.675048828125, 7.150168418884277, 7.132713794708252, 16.61794662475586, 6.291919708251953, 6.290748596191406, 6.288546562194824, 6.281924247741699, 7.8474440574646, 6.27910041809082, 6.265047073364258, 5.41936731338501, 5.418264389038086, 5.4176764488220215, 5.417065143585205, 5.4164018630981445, 5.415968418121338, 5.415303707122803, 5.414218902587891, 5.4076337814331055, 10.66727066040039, 4.5456366539001465, 4.5454487800598145, 4.544620990753174, 4.544407367706299, 8.187663078308105, 8.860746383666992, 26.153337478637695, 12.472359657287598, 10.65983772277832, 17.742263793945312, 13.935251235961914, 202.4712677001953, 245.23834228515625, 8.914260864257812, 14.592748641967773, 7.165514945983887, 27.55280876159668, 98.48589324951172, 25.6074161529541, 42.079769134521484, 41.48004150390625, 19.665300369262695, 60.689842224121094, 71.25325775146484, 41.772003173828125, 38.032005310058594, 39.93707275390625, 31.239830017089844, 24.820682525634766, 41.13698959350586, 56.45993423461914, 34.69977951049805, 94.4314956665039, 49.923667907714844, 57.08640670776367, 50.12632369995117, 42.48654556274414, 51.37299346923828, 34.44225311279297, 48.503273010253906, 44.437904357910156, 51.23527526855469, 60.67930221557617, 53.82658004760742, 45.89278030395508, 50.720123291015625, 37.22414016723633, 42.663902282714844, 37.344703674316406, 38.474910736083984, 43.68837356567383, 38.91046905517578, 11.024638175964355, 9.349893569946289, 8.518109321594238, 8.505619049072266, 14.66727352142334, 7.664912223815918, 7.664140701293945, 6.851883888244629, 6.8506879806518555, 6.016129016876221, 6.013004779815674, 6.012907981872559, 6.011460304260254, 8.219095230102539, 8.972954750061035, 11.21211051940918, 5.1804375648498535, 5.180305480957031, 5.177216053009033, 5.1766886711120605, 5.175339221954346, 4.343326568603516, 4.342713832855225, 4.340874671936035, 4.340981960296631, 4.340188503265381, 4.336737155914307, 4.336361885070801, 4.328271865844727, 4.327205657958984, 68.37313079833984, 27.134746551513672, 39.88460159301758, 44.49098587036133, 6.850826263427734, 6.8486199378967285, 21.766191482543945, 23.668926239013672, 15.193696975708008, 35.37845230102539, 132.26512145996094, 25.20473289489746, 32.47503662109375, 11.525367736816406, 42.416683197021484, 25.831768035888672, 78.79276275634766, 69.76212310791016, 15.297890663146973, 12.40330982208252, 58.279605865478516, 48.144222259521484, 50.28939437866211, 39.94026565551758, 31.8953914642334, 31.608455657958984, 22.558366775512695, 56.67717361450195, 41.41678237915039, 33.01534652709961, 28.945903778076172, 30.027790069580078, 27.465906143188477, 30.61608123779297, 27.661806106567383, 29.860502243041992, 27.759319305419922, 34.73930740356445, 29.332374572753906, 28.44161605834961, 27.607589721679688, 27.705081939697266], \"Term\": [\"cell\", \"peptide\", \"protein\", \"strain\", \"model\", \"sequence\", \"positive\", \"figure\", \"virus\", \"sample\", \"group\", \"residue\", \"contact\", \"patient\", \"viral\", \"infection\", \"health\", \"binding\", \"pathogen\", \"expression\", \"infect\", \"protease\", \"level\", \"mutation\", \"case\", \"isolate\", \"table\", \"influenza\", \"epidemic\", \"structure\", \"ancestry\", \"topology\", \"meeting\", \"perception\", \"rest\", \"rabies\", \"camel\", \"professional\", \"caspase-6\", \"outperform\", \"seronegative\", \"\\\\usepackage{amssymb\", \"learning\", \"strings\", \"wildlife\", \"pasteurella\", \"wean\", \"infrastructure\", \"barman\", \"montelukast\", \"islander\", \"service\", \"training\", \"dataset\", \"cress\", \"plan\", \"dempo\", \"lt\\u03b2r\\u2212/\\u2212\", \"admixture\", \"company\", \"puncta\", \"program\", \"mobile\", \"health\", \"worker\", \"calf\", \"national\", \"model\", \"weaning\", \"pathogen\", \"performance\", \"compound\", \"survey\", \"stool\", \"datasets\", \"knowledge\", \"medical\", \"sample\", \"exposure\", \"prediction\", \"patient\", \"report\", \"participant\", \"identify\", \"female\", \"public\", \"method\", \"result\", \"information\", \"table\", \"epidemic\", \"dengue\", \"using\", \"sequence\", \"among\", \"hospital\", \"study\", \"analysis\", \"would\", \"number\", \"include\", \"increase\", \"virus\", \"group\", \"show\", \"disease\", \"respectively\", \"positive\", \"infection\", \"protein\", \"human\", \"figure\", \"phosphor\", \"gondii\", \"cd200r1\\u2212/\\u2212\", \"platelet\", \"saracatinib\", \"mir-4331\", \"cd200r1+/+\", \"miseq\", \"cage\", \"phellodendron\", \"cpv-2c\", \"\\\\setlength{\\\\oddsidemargin}{-69pt\", \"cd41a\", \"cyp2c19\", \"viruliferous\", \"h275y\", \"lion\", \"import\", \"denv1\", \"indonesia\", \"vlp100\", \"rectal\", \"rocaglamide\", \"od450\", \"il1rap\", \"yamagata\", \"malaysia\", \"thailand\", \"flotation\", \"botswana\", \"guangdong\", \"dromedary\", \"episode\", \"focal\", \"read\", \"swab\", \"autophagy\", \"lineage\", \"pneumoniae\", \"damage\", \"covid-19\", \"strain\", \"probe\", \"positive\", \"sequence\", \"isolate\", \"case\", \"group\", \"brain\", \"negative\", \"influenza\", \"hiv-1\", \"infect\", \"infection\", \"sample\", \"virus\", \"figure\", \"table\", \"viral\", \"compare\", \"level\", \"show\", \"detect\", \"value\", \"titer\", \"control\", \"three\", \"found\", \"significantly\", \"study\", \"using\", \"increase\", \"analysis\", \"result\", \"indicate\", \"cell\", \"bocavirus\", \"egr-1\", \"rzh\\u03b4nss\", \"pedvpt\", \"ded1p\", \"mir-10a-5p\", \"adpmul21apr\", \"sirt1\", \"antennary\", \"sampler\", \"bvlps\", \"bladder\", \"adpmul21aph\", \"resident\", \"hrluc\", \"\\\\usepackage{upgreek\", \"dtmuv\", \"bmp38\", \"subul97\", \"helicase\", \"contigs\", \"zbmd\\u20101\", \"cloacal\", \"\\\\usepackage{wasysym\", \"innate\", \"scarb2\", \"andersen\", \"contamination\", \"subul117\", \"pbmcs\", \"acetylation\", \"glycans\", \"child\", \"shedding\", \"virus\", \"chicken\", \"bird\", \"assembly\", \"respiratory\", \"infection\", \"cell\", \"entry\", \"disease\", \"mutant\", \"response\", \"pathway\", \"replication\", \"show\", \"viral\", \"respectively\", \"treatment\", \"infect\", \"study\", \"result\", \"common\", \"receptor\", \"protein\", \"similar\", \"increase\", \"analysis\", \"observe\", \"figure\", \"expression\", \"treat\", \"suggest\", \"detect\", \"human\", \"different\", \"activity\", \"level\", \"strain\", \"table\", \"compare\", \"group\", \"signr\", \"hsc70\", \"isg20\", \"granzyme\", \"marking\", \"cancer\", \"chaperone\", \"photolyases\", \"rnase\", \"ceacam1\\u2013/\", \"prnt50\", \"l1-rtp\", \"marneffei\", \"\\u03b11-at\", \"gradient\", \"splenocytes\", \"renal\", \"vsig4\", \"trim27\", \"chchd2\", \"rv1a\\u2010ilov\", \"dequenching\", \"dioc18\", \"p3m2e\", \"hspc117\", \"grade\", \"creatinine\", \"impairment\", \"nsp13\", \"puppy\", \"depletion\", \"malaria\", \"supernatant\", \"prrsv\", \"cohort\", \"proliferation\", \"ifitm3\", \"protein\", \"cell\", \"power\", \"survival\", \"pleuropneumoniae\", \"serum\", \"level\", \"produce\", \"animal\", \"decrease\", \"purify\", \"patient\", \"expression\", \"induce\", \"express\", \"treat\", \"culture\", \"membrane\", \"difference\", \"observe\", \"gene\", \"figure\", \"treatment\", \"viral\", \"control\", \"activity\", \"compare\", \"effect\", \"using\", \"significantly\", \"increase\", \"show\", \"group\", \"sample\", \"result\", \"human\", \"analysis\", \"found\", \"detect\", \"infection\", \"study\", \"infusion\", \"nsp16\", \"slippage\", \"histone\", \"hydrophobic\", \"actin\", \"chaffeensis\", \"rosiglitazone\", \"ecosystem\", \"forskolin\", \"\\\\usepackage{mathrsfs\", \"glycosites\", \"mmp-9\", \"charge\", \"nsp10\", \"crystal\", \"cyp3a2\", \"assortativity\", \"nontarget\", \"pollution\", \"scfvs\", \"containment\", \"cuff\", \"globulin\", \"google\", \"100\\u2013108\", \"phosphorylated\", \"concanamycin\", \"hpiv-2\", \"pilgrim\", \"peptide\", \"protease\", \"residue\", \"contact\", \"conjugation\", \"cleft\", \"site\", \"construct\", \"motif\", \"mutation\", \"figure\", \"supplementary\", \"structure\", \"modification\", \"binding\", \"interaction\", \"show\", \"result\", \"class\", \"immunization\", \"group\", \"expression\", \"sequence\", \"control\", \"antibody\", \"higher\", \"region\", \"protein\", \"table\", \"significantly\", \"model\", \"different\", \"significant\", \"strain\", \"found\", \"compare\", \"treatment\", \"cell\", \"study\", \"analysis\", \"level\", \"virus\"], \"Total\": [572.0, 83.0, 440.0, 180.0, 125.0, 230.0, 158.0, 465.0, 468.0, 211.0, 294.0, 54.0, 61.0, 165.0, 210.0, 385.0, 47.0, 118.0, 62.0, 213.0, 229.0, 32.0, 250.0, 61.0, 99.0, 102.0, 235.0, 132.0, 54.0, 73.0, 13.263175964355469, 9.9526948928833, 9.95316219329834, 8.298344612121582, 7.470936298370361, 7.471489906311035, 14.100750923156738, 7.4712347984313965, 6.6441121101379395, 6.645545959472656, 6.64518404006958, 5.815724849700928, 5.816787242889404, 5.8169965744018555, 5.8170084953308105, 5.816865921020508, 5.816988468170166, 5.817105293273926, 5.817018508911133, 5.815771102905273, 5.817367076873779, 5.816834449768066, 18.283716201782227, 12.456295013427734, 4.9897637367248535, 4.989630222320557, 4.989546775817871, 4.9885735511779785, 4.990237712860107, 4.989559650421143, 10.787744522094727, 9.998056411743164, 5.820040225982666, 47.76506423950195, 9.182905197143555, 23.248878479003906, 10.918213844299316, 125.39004516601562, 10.857231140136719, 62.79450607299805, 19.401939392089844, 34.376800537109375, 17.607458114624023, 14.236645698547363, 10.803123474121094, 20.361431121826172, 16.87445640563965, 211.25843811035156, 47.735870361328125, 30.52646827697754, 165.03408813476562, 108.24949645996094, 26.216869354248047, 137.53846740722656, 31.160934448242188, 18.553070068359375, 95.96859741210938, 331.0567321777344, 43.68498229980469, 235.63540649414062, 54.297794342041016, 26.24037742614746, 183.81515502929688, 230.29299926757812, 104.85942840576172, 40.05046463012695, 232.83837890625, 222.43426513671875, 53.75770568847656, 120.27898406982422, 132.84356689453125, 228.84744262695312, 468.2684326171875, 294.2467956542969, 386.6402893066406, 127.08409881591797, 148.6202392578125, 158.16343688964844, 385.3853454589844, 440.04864501953125, 132.12002563476562, 465.837158203125, 13.399453163146973, 10.891489028930664, 10.054088592529297, 8.381623268127441, 9.219850540161133, 8.382035255432129, 7.544844150543213, 7.544811725616455, 6.7083740234375, 6.708337783813477, 6.708672046661377, 6.707430362701416, 6.708834648132324, 5.871988296508789, 5.872214317321777, 5.872194290161133, 5.0355939865112305, 5.035629749298096, 5.035675048828125, 5.035645008087158, 5.035661697387695, 5.0356550216674805, 5.879709720611572, 5.035824775695801, 5.035283088684082, 5.037618160247803, 5.042316436767578, 5.042102813720703, 4.199151039123535, 4.199186325073242, 9.207280158996582, 11.773170471191406, 23.64710235595703, 9.206742286682129, 30.633588790893555, 24.644332885742188, 8.374711990356445, 38.21831130981445, 21.99488639831543, 12.636126518249512, 6.698522090911865, 180.14779663085938, 34.475215911865234, 158.16343688964844, 230.29299926757812, 102.07584381103516, 99.9613265991211, 294.2467956542969, 23.488628387451172, 72.04351806640625, 132.49765014648438, 20.392133712768555, 229.9924774169922, 385.3853454589844, 211.25843811035156, 468.2684326171875, 465.837158203125, 235.63540649414062, 210.61672973632812, 198.13626098632812, 250.9973602294922, 386.6402893066406, 178.30267333984375, 51.195823669433594, 66.73443603515625, 176.18658447265625, 123.86335754394531, 145.280029296875, 157.3385009765625, 232.83837890625, 183.81515502929688, 228.84744262695312, 222.43426513671875, 331.0567321777344, 141.74594116210938, 572.5955200195312, 12.555938720703125, 11.656533241271973, 10.75639533996582, 10.756086349487305, 9.855817794799805, 9.855704307556152, 9.855680465698242, 9.85547924041748, 8.955504417419434, 8.955517768859863, 8.955473899841309, 8.955400466918945, 8.955431938171387, 8.95404052734375, 8.05534553527832, 8.052899360656738, 8.055183410644531, 8.054803848266602, 8.055023193359375, 8.054352760314941, 8.054454803466797, 8.052635192871094, 7.1548752784729, 7.152515888214111, 7.154715061187744, 7.154730319976807, 7.15484094619751, 7.154658794403076, 7.154726505279541, 7.1539411544799805, 13.428899765014648, 16.92918586730957, 78.79423522949219, 27.477394104003906, 468.2684326171875, 45.930809020996094, 17.749238967895508, 22.233190536499023, 92.40233612060547, 385.3853454589844, 572.5955200195312, 39.90505599975586, 127.08409881591797, 76.22412109375, 104.3230972290039, 63.87749481201172, 88.85294342041016, 386.6402893066406, 210.61672973632812, 148.6202392578125, 165.59495544433594, 229.9924774169922, 232.83837890625, 331.0567321777344, 55.851200103759766, 40.59144973754883, 440.04864501953125, 121.29719543457031, 228.84744262695312, 222.43426513671875, 185.32562255859375, 465.837158203125, 213.21792602539062, 99.44573211669922, 126.93418884277344, 178.30267333984375, 132.12002563476562, 138.2490234375, 135.8070068359375, 250.9973602294922, 180.14779663085938, 235.63540649414062, 198.13626098632812, 294.2467956542969, 22.71316909790039, 10.472373008728027, 9.597904205322266, 7.848732948303223, 7.849024772644043, 18.298843383789062, 7.8484086990356445, 7.849552154541016, 18.294200897216797, 6.974608898162842, 6.9743804931640625, 6.974501132965088, 6.973675727844238, 8.71474838256836, 6.974522590637207, 6.9723920822143555, 6.1000518798828125, 6.0998382568359375, 6.100077152252197, 6.100085735321045, 6.09989595413208, 6.099935054779053, 6.09993314743042, 6.09956169128418, 6.099664688110352, 12.172739028930664, 5.225581645965576, 5.225582122802734, 5.225527286529541, 5.225548267364502, 9.56445026397705, 10.420013427734375, 33.31696319580078, 15.588858604431152, 13.144417762756348, 24.195419311523438, 18.43573760986328, 440.04864501953125, 572.5955200195312, 11.25106430053711, 20.77373504638672, 8.675092697143555, 48.620059967041016, 250.9973602294922, 46.439598083496094, 91.69465637207031, 93.27473449707031, 33.88936233520508, 165.03408813476562, 213.21792602539062, 100.53086853027344, 91.32978820800781, 99.44573211669922, 70.83914947509766, 50.37165451049805, 109.53993225097656, 185.32562255859375, 87.42791748046875, 465.837158203125, 165.59495544433594, 210.61672973632812, 176.18658447265625, 135.8070068359375, 198.13626098632812, 97.12753295898438, 183.81515502929688, 157.3385009765625, 228.84744262695312, 386.6402893066406, 294.2467956542969, 211.25843811035156, 331.0567321777344, 132.12002563476562, 222.43426513671875, 145.280029296875, 178.30267333984375, 385.3853454589844, 232.83837890625, 11.718672752380371, 10.047196388244629, 9.21116828918457, 9.210800170898438, 15.891305923461914, 8.374784469604492, 8.376091003417969, 7.539629936218262, 7.539637565612793, 6.7038726806640625, 6.70260763168335, 6.7040276527404785, 6.704071044921875, 9.21114730834961, 10.07534122467041, 12.603031158447266, 5.868115425109863, 5.868113040924072, 5.868309020996094, 5.868131160736084, 5.867639541625977, 5.032358169555664, 5.03243350982666, 5.032380104064941, 5.032613277435303, 5.032485485076904, 5.032027721405029, 5.031798839569092, 5.029962062835693, 5.031558513641357, 83.88386535644531, 32.966064453125, 54.39674758911133, 61.28242111206055, 8.437019348144531, 8.436975479125977, 33.262847900390625, 37.279052734375, 22.11663055419922, 61.73310852050781, 465.837158203125, 50.581581115722656, 73.99368286132812, 17.876758575439453, 118.03697204589844, 64.4943618774414, 386.6402893066406, 331.0567321777344, 29.761531829833984, 21.22705841064453, 294.2467956542969, 213.21792602539062, 230.29299926757812, 176.18658447265625, 116.62792205810547, 126.96084594726562, 67.58598327636719, 440.04864501953125, 235.63540649414062, 157.3385009765625, 125.39004516601562, 138.2490234375, 126.92549133300781, 180.14779663085938, 145.280029296875, 198.13626098632812, 165.59495544433594, 572.5955200195312, 232.83837890625, 222.43426513671875, 250.9973602294922, 468.2684326171875], \"loglift\": [30.0, 29.0, 28.0, 27.0, 26.0, 25.0, 24.0, 23.0, 22.0, 21.0, 20.0, 19.0, 18.0, 17.0, 16.0, 15.0, 14.0, 13.0, 12.0, 11.0, 10.0, 9.0, 8.0, 7.0, 6.0, 5.0, 4.0, 3.0, 2.0, 1.0, 1.8681000471115112, 1.8560999631881714, 1.8549000024795532, 1.8408000469207764, 1.830399990081787, 1.8295999765396118, 1.829300045967102, 1.8270000219345093, 1.815000057220459, 1.8141000270843506, 1.812399983406067, 1.8015999794006348, 1.8015999794006348, 1.801300048828125, 1.801200032234192, 1.8011000156402588, 1.8009999990463257, 1.8008999824523926, 1.8007999658584595, 1.8005000352859497, 1.8000999689102173, 1.8000999689102173, 1.7942999601364136, 1.7799999713897705, 1.7789000272750854, 1.7788000106811523, 1.7776999473571777, 1.7776000499725342, 1.777400016784668, 1.7773000001907349, 1.7735999822616577, 1.757599949836731, 1.7669999599456787, 1.5858999490737915, 1.7086000442504883, 1.5855000019073486, 1.6764999628067017, 1.2405999898910522, 1.6755000352859497, 1.30840003490448, 1.5379999876022339, 1.4079999923706055, 1.5461000204086304, 1.5835000276565552, 1.632699966430664, 1.4500999450683594, 1.4961999654769897, 0.7129999995231628, 1.15339994430542, 1.2944999933242798, 0.6769000291824341, 0.8276000022888184, 1.3284000158309937, 0.6773999929428101, 1.2307000160217285, 1.4483000040054321, 0.7279000282287598, 0.15839999914169312, 1.066100001335144, 0.27959999442100525, 0.9545999765396118, 1.2702000141143799, 0.2379000037908554, 0.10499999672174454, 0.5026000142097473, 1.0405999422073364, -0.027899999171495438, -0.0340999998152256, 0.840399980545044, 0.3003999888896942, 0.21580000221729279, -0.18960000574588776, -0.717199981212616, -0.4171000123023987, -0.6322000026702881, 0.18559999763965607, 0.05400000140070915, -0.037300001829862595, -0.8707000017166138, -1.020400047302246, 0.04780000075697899, -1.1395000219345093, 1.7475999593734741, 1.7336000204086304, 1.729699969291687, 1.7141000032424927, 1.7130999565124512, 1.7100000381469727, 1.7050000429153442, 1.704300045967102, 1.6927000284194946, 1.6922999620437622, 1.6917999982833862, 1.6913000345230103, 1.6912000179290771, 1.6759999990463257, 1.6751999855041504, 1.6750999689102173, 1.6539000272750854, 1.653499960899353, 1.65339994430542, 1.65339994430542, 1.6532000303268433, 1.6532000303268433, 1.6532000303268433, 1.6531000137329102, 1.649899959564209, 1.6467000246047974, 1.62909996509552, 1.628999948501587, 1.6220999956130981, 1.6217999458312988, 1.6208000183105469, 1.6088000535964966, 1.5937000513076782, 1.6131000518798828, 1.4600000381469727, 1.4665000438690186, 1.5894999504089355, 1.368299961090088, 1.429900050163269, 1.498900055885315, 1.6065000295639038, 1.0372999906539917, 1.2960000038146973, 1.0059000253677368, 0.8640999794006348, 1.0182000398635864, 1.0190000534057617, 0.7379999756813049, 1.3389999866485596, 1.031499981880188, 0.805899977684021, 1.360200047492981, 0.6044999957084656, 0.4065000116825104, 0.5077000260353088, 0.21289999783039093, 0.20309999585151672, 0.45350000262260437, 0.4113999903202057, 0.41200000047683716, 0.287200003862381, 0.07769999653100967, 0.40130001306533813, 0.9397000074386597, 0.8166000247001648, 0.3041999936103821, 0.42719998955726624, 0.3370000123977661, 0.2718999981880188, 0.025200000032782555, 0.1298000067472458, -0.037300001829862595, -0.03200000151991844, -0.40610000491142273, 0.23489999771118164, -1.0684000253677368, 1.1176999807357788, 1.1136000156402588, 1.1088000535964966, 1.108299970626831, 1.1022000312805176, 1.1019999980926514, 1.1017999649047852, 1.1017999649047852, 1.0950000286102295, 1.0946999788284302, 1.094599962234497, 1.094599962234497, 1.094599962234497, 1.0938999652862549, 1.0860999822616577, 1.085800051689148, 1.0855000019073486, 1.0851999521255493, 1.0851999521255493, 1.0851999521255493, 1.0849000215530396, 1.0822999477386475, 1.0743000507354736, 1.0742000341415405, 1.0741000175476074, 1.0738999843597412, 1.0738999843597412, 1.073799967765808, 1.073699951171875, 1.0734000205993652, 1.0506000518798828, 1.0261000394821167, 0.8677999973297119, 0.941100001335144, 0.6503000259399414, 0.8809999823570251, 0.9717000126838684, 0.9354000091552734, 0.7329999804496765, 0.5091000199317932, 0.37610000371932983, 0.8235999941825867, 0.6266999840736389, 0.6765999794006348, 0.6169000267982483, 0.6722000241279602, 0.5860000252723694, 0.2152000069618225, 0.3587999939918518, 0.43619999289512634, 0.39559999108314514, 0.30079999566078186, 0.2476000040769577, 0.13989999890327454, 0.6312999725341797, 0.7160000205039978, 0.033799998462200165, 0.39750000834465027, 0.20069999992847443, 0.20559999346733093, 0.17080000042915344, -0.15629999339580536, 0.11509999632835388, 0.38530001044273376, 0.2732999920845032, 0.13699999451637268, 0.2184000015258789, 0.17350000143051147, 0.1615999937057495, -0.2515000104904175, -0.06239999830722809, -0.27649998664855957, -0.15520000457763672, -0.5540000200271606, 1.506600022315979, 1.4723999500274658, 1.4585000276565552, 1.4484000205993652, 1.4483000040054321, 1.4467999935150146, 1.4465999603271484, 1.444000005722046, 1.443600058555603, 1.4366999864578247, 1.4365999698638916, 1.4362000226974487, 1.4352999925613403, 1.4349000453948975, 1.4347000122070312, 1.432800054550171, 1.4213999509811401, 1.4212000370025635, 1.4211000204086304, 1.4210000038146973, 1.4208999872207642, 1.420799970626831, 1.420699954032898, 1.4205000400543213, 1.4192999601364136, 1.4076999425888062, 1.4003000259399414, 1.4003000259399414, 1.4000999927520752, 1.4000999927520752, 1.3842999935150146, 1.3775999546051025, 1.2976000308990479, 1.3166999816894531, 1.330199956893921, 1.2295000553131104, 1.2598999738693237, 0.7634000182151794, 0.6917999982833862, 1.3069000244140625, 1.1865999698638916, 1.3486000299453735, 0.9718000292778015, 0.604200005531311, 0.9445000290870667, 0.7608000040054321, 0.7293999791145325, 0.9955000281333923, 0.5393999814987183, 0.44369998574256897, 0.6614999771118164, 0.6636999845504761, 0.6273999810218811, 0.7210000157356262, 0.8320000171661377, 0.5602999925613403, 0.35109999775886536, 0.6155999898910522, -0.05620000138878822, 0.3407000005245209, 0.23430000245571136, 0.2827000021934509, 0.37770000100135803, 0.1898999959230423, 0.503000020980835, 0.20739999413490295, 0.2754000127315521, 0.04309999942779541, -0.31220000982284546, -0.15889999270439148, 0.013000000268220901, -0.3361999988555908, 0.27300000190734863, -0.11159999668598175, 0.18129999935626984, 0.006300000008195639, -0.6373999714851379, -0.24940000474452972, 1.736199975013733, 1.7252999544143677, 1.719099998474121, 1.7175999879837036, 1.7171000242233276, 1.7086999416351318, 1.708400011062622, 1.7015999555587769, 1.7015000581741333, 1.6890000104904175, 1.6886999607086182, 1.6885000467300415, 1.6881999969482422, 1.6833000183105469, 1.681399941444397, 1.680299997329712, 1.6726000308990479, 1.6726000308990479, 1.6720000505447388, 1.6719000339508057, 1.6717000007629395, 1.649999976158142, 1.649899959564209, 1.6495000123977661, 1.649399995803833, 1.6492999792099, 1.6485999822616577, 1.6484999656677246, 1.6469999551773071, 1.6464999914169312, 1.5928000211715698, 1.6025999784469604, 1.4869999885559082, 1.4771000146865845, 1.5889999866485596, 1.5887000560760498, 1.3732000589370728, 1.343000054359436, 1.4218000173568726, 1.2405999898910522, 0.5382000207901001, 1.1007000207901, 0.973800003528595, 1.358299970626831, 0.7738000154495239, 0.8823000192642212, 0.20659999549388885, 0.24009999632835388, 1.1318000555038452, 1.2599999904632568, 0.17810000479221344, 0.3091999888420105, 0.27570000290870667, 0.31310001015663147, 0.5006999969482422, 0.4068000018596649, 0.699999988079071, -0.25220000743865967, 0.05869999900460243, 0.23579999804496765, 0.3312999904155731, 0.2703000009059906, 0.26660001277923584, 0.02500000037252903, 0.1386999934911728, -0.09510000050067902, 0.011300000362098217, -1.0049999952316284, -0.274399995803833, -0.25949999690055847, -0.4101000130176544, -1.0300999879837036], \"logprob\": [30.0, 29.0, 28.0, 27.0, 26.0, 25.0, 24.0, 23.0, 22.0, 21.0, 20.0, 19.0, 18.0, 17.0, 16.0, 15.0, 14.0, 13.0, 12.0, 11.0, 10.0, 9.0, 8.0, 7.0, 6.0, 5.0, 4.0, 3.0, 2.0, 1.0, -6.509900093078613, -6.809100151062012, -6.810299873352051, -7.006199836730957, -7.121600151062012, -7.122300148010254, -6.487500190734863, -7.124899864196777, -7.254300117492676, -7.255000114440918, -7.256800174713135, -7.4008002281188965, -7.400700092315674, -7.400899887084961, -7.401000022888184, -7.401100158691406, -7.401199817657471, -7.401299953460693, -7.401500225067139, -7.401899814605713, -7.4019999504089355, -7.402200222015381, -6.262700080871582, -6.660799980163574, -7.576700210571289, -7.576900005340576, -7.577899932861328, -7.5782999992370605, -7.578100204467773, -7.578400135040283, -6.810999870300293, -6.90310001373291, -7.434700012207031, -5.510799884796143, -7.037099838256836, -6.231299877166748, -6.896100044250488, -4.890999794006348, -6.902699947357178, -5.514800071716309, -6.45959997177124, -6.017600059509277, -6.548600196838379, -6.723800182342529, -6.950500011444092, -6.499300003051758, -6.640999794006348, -4.896900177001953, -5.943900108337402, -6.25, -5.179999828338623, -5.451000213623047, -6.368199825286865, -5.361700057983398, -6.2932000160217285, -6.594099998474121, -5.67110013961792, -5.002399921417236, -6.119999885559082, -5.221199989318848, -6.013999938964844, -6.42549991607666, -5.511199951171875, -5.418700218200684, -5.807799816131592, -6.2322998046875, -5.540599822998047, -5.59250020980835, -6.1381001472473145, -5.872900009155273, -5.857999801635742, -5.7195000648498535, -5.531099796295166, -5.695700168609619, -5.637700080871582, -5.932600021362305, -5.907599925994873, -5.936699867248535, -5.879499912261963, -5.896599769592285, -6.031499862670898, -5.958700180053711, -6.620200157165527, -6.8414998054504395, -6.925300121307373, -7.122900009155273, -7.028500080108643, -7.126999855041504, -7.237199783325195, -7.237800121307373, -7.367000102996826, -7.367400169372559, -7.3678998947143555, -7.368500232696533, -7.3684000968933105, -7.5167999267578125, -7.517600059509277, -7.5177001953125, -7.692599773406982, -7.692999839782715, -7.692999839782715, -7.6930999755859375, -7.693299770355225, -7.693299770355225, -7.538400173187256, -7.693299770355225, -7.696700096130371, -7.699399948120117, -7.716100215911865, -7.71619987487793, -7.906099796295166, -7.906300067901611, -7.122200012207031, -6.888400077819824, -6.206099987030029, -7.130000114440918, -6.080999851226807, -6.291999816894531, -7.248300075531006, -5.951399803161621, -6.442399978637695, -6.927499771118164, -7.454699993133545, -4.73199987411499, -6.126800060272217, -4.893499851226807, -4.659599781036377, -5.3190999031066895, -5.339200019836426, -4.540599822998047, -6.46750020980835, -5.654200077056885, -5.270500183105469, -6.587699890136719, -4.920499801635742, -4.60230016708374, -5.10230016708374, -4.601099967956543, -4.616099834442139, -5.047299861907959, -5.201600074768066, -5.2621002197265625, -5.150400161743164, -4.927800178527832, -5.378200054168701, -6.087699890136719, -5.945700168609619, -5.487299919128418, -5.716599941253662, -5.64739990234375, -5.632699966430664, -5.487400054931641, -5.61929988861084, -5.567200183868408, -5.590400218963623, -5.56689977645874, -5.774099826812744, -5.68120002746582, -7.315199851989746, -7.393499851226807, -7.478799819946289, -7.4791998863220215, -7.572800159454346, -7.57289981842041, -7.573200225830078, -7.573200225830078, -7.67579984664917, -7.67609977722168, -7.67609977722168, -7.676199913024902, -7.676199913024902, -7.677000045776367, -7.790599822998047, -7.791200160980225, -7.791200160980225, -7.791500091552734, -7.791500091552734, -7.791600227355957, -7.791900157928467, -7.7947001457214355, -7.920899868011475, -7.921299934387207, -7.921199798583984, -7.92140007019043, -7.921299934387207, -7.921500205993652, -7.921599864959717, -7.921999931335449, -7.315000057220459, -7.107900142669678, -5.728400230407715, -6.708499908447266, -4.163599967956543, -6.254799842834473, -7.114999771118164, -6.92609977722168, -5.70389986038208, -4.49970006942749, -4.236800193786621, -6.452899932861328, -5.491499900817871, -5.952700138092041, -5.698599815368652, -6.133900165557861, -5.889999866485596, -4.79040002822876, -5.254199981689453, -5.5254998207092285, -5.457900047302246, -5.2241997718811035, -5.265100002288818, -5.020899772644043, -6.309100151062012, -6.543499946594238, -4.842299938201904, -5.767199993133545, -5.3292999267578125, -5.352799892425537, -5.570099830627441, -4.975500106811523, -5.485599994659424, -5.9781999588012695, -5.846099853515625, -5.642499923706055, -5.861000061035156, -5.860499858856201, -5.890200138092041, -5.6890997886657715, -5.831699848175049, -5.777299880981445, -5.82919979095459, -5.832600116729736, -6.333499908447266, -7.141900062561035, -7.243000030517578, -7.45419979095459, -7.454400062561035, -6.609399795532227, -7.456200122833252, -7.458600044250488, -6.612800121307373, -7.584000110626221, -7.584199905395508, -7.58459997177124, -7.585599899291992, -7.363100051879883, -7.586100101470947, -7.5883002281188965, -7.73330020904541, -7.733500003814697, -7.73360013961792, -7.733699798583984, -7.73390007019043, -7.734000205993652, -7.734099864959717, -7.734300136566162, -7.735499858856201, -7.056099891662598, -7.90910005569458, -7.909200191497803, -7.90939998626709, -7.90939998626709, -7.320700168609619, -7.241700172424316, -6.159299850463867, -6.899799823760986, -7.05679988861084, -6.547399997711182, -6.788899898529053, -4.11269998550415, -3.921099901199341, -7.235599994659424, -6.742800235748291, -7.453999996185303, -6.1072001457214355, -4.833399772644043, -6.1803998947143555, -5.683700084686279, -5.6981000900268555, -6.444399833679199, -5.317500114440918, -5.157100200653076, -5.691100120544434, -5.784900188446045, -5.736000061035156, -5.981599807739258, -6.211599826812744, -5.706399917602539, -5.389800071716309, -5.8765997886657715, -4.875400066375732, -5.512800216674805, -5.378699779510498, -5.508800029754639, -5.674099922180176, -5.4842000007629395, -5.883999824523926, -5.5416998863220215, -5.629199981689453, -5.4868998527526855, -5.317699909210205, -5.4375, -5.5970001220703125, -5.497000217437744, -5.806300163269043, -5.669899940490723, -5.803100109100342, -5.7733001708984375, -5.646200180053711, -5.76200008392334, -6.765600204467773, -6.9303998947143555, -7.023600101470947, -7.025000095367432, -6.480100154876709, -7.1290998458862305, -7.129199981689453, -7.241199970245361, -7.241399765014648, -7.371300220489502, -7.371799945831299, -7.371799945831299, -7.372099876403809, -7.059299945831299, -6.971499919891357, -6.748799800872803, -7.520899772644043, -7.520899772644043, -7.521500110626221, -7.521599769592285, -7.5218000411987305, -7.6971001625061035, -7.697299957275391, -7.697700023651123, -7.697700023651123, -7.697800159454346, -7.698599815368652, -7.698699951171875, -7.7006001472473145, -7.700799942016602, -4.940800189971924, -5.8649001121521, -5.479800224304199, -5.370500087738037, -7.241399765014648, -7.241700172424316, -6.085400104522705, -6.0015997886657715, -6.444900035858154, -5.599599838256836, -4.280900001525879, -5.938700199127197, -5.685299873352051, -6.721199989318848, -5.4182000160217285, -5.914100170135498, -4.798900127410889, -4.9207000732421875, -6.438000202178955, -6.647799968719482, -5.100500106811523, -5.291600227355957, -5.248000144958496, -5.478400230407715, -5.7032999992370605, -5.712299823760986, -6.049600124359131, -5.128399848937988, -5.4421000480651855, -5.668799877166748, -5.800300121307373, -5.763599872589111, -5.852799892425537, -5.744200229644775, -5.845699787139893, -5.769199848175049, -5.842199802398682, -5.6178998947143555, -5.787099838256836, -5.81790018081665, -5.847700119018555, -5.844099998474121]}, \"token.table\": {\"Topic\": [5, 2, 1, 5, 3, 3, 3, 4, 5, 2, 3, 4, 5, 1, 3, 3, 1, 2, 3, 4, 5, 1, 2, 3, 4, 5, 1, 3, 1, 2, 3, 4, 5, 3, 2, 3, 4, 5, 1, 2, 3, 4, 5, 1, 2, 1, 2, 3, 4, 5, 1, 2, 3, 3, 3, 3, 2, 2, 4, 5, 3, 2, 1, 2, 5, 1, 5, 2, 4, 1, 2, 3, 4, 5, 1, 2, 2, 2, 4, 1, 2, 3, 4, 5, 5, 4, 5, 4, 2, 3, 1, 2, 3, 4, 5, 1, 2, 3, 4, 5, 3, 5, 3, 3, 4, 1, 2, 3, 4, 5, 1, 1, 2, 3, 4, 5, 1, 2, 3, 4, 5, 5, 3, 5, 2, 3, 4, 5, 1, 2, 3, 4, 5, 5, 3, 3, 1, 2, 3, 4, 5, 1, 2, 2, 4, 1, 3, 5, 5, 1, 2, 3, 4, 5, 2, 5, 2, 4, 5, 1, 2, 1, 5, 1, 2, 3, 4, 5, 3, 1, 1, 2, 3, 2, 4, 5, 4, 1, 2, 3, 4, 5, 1, 2, 3, 4, 5, 1, 2, 3, 4, 5, 4, 1, 2, 3, 4, 5, 2, 3, 5, 3, 5, 1, 2, 3, 4, 5, 3, 1, 3, 4, 5, 1, 2, 3, 4, 5, 2, 3, 4, 1, 2, 4, 5, 1, 3, 4, 5, 1, 2, 3, 4, 5, 1, 2, 3, 4, 5, 1, 2, 3, 4, 5, 2, 1, 2, 5, 1, 2, 3, 4, 5, 1, 2, 3, 4, 5, 5, 3, 5, 5, 2, 5, 1, 4, 4, 4, 1, 2, 3, 4, 5, 1, 2, 2, 1, 2, 3, 4, 5, 3, 1, 2, 3, 4, 5, 5, 2, 3, 5, 1, 2, 3, 4, 5, 5, 3, 4, 4, 1, 2, 3, 4, 5, 1, 5, 1, 2, 3, 4, 5, 3, 4, 2, 1, 2, 3, 4, 5, 4, 2, 1, 2, 3, 4, 5, 1, 2, 3, 4, 5, 1, 2, 3, 4, 5, 2, 1, 2, 3, 4, 5, 1, 2, 3, 4, 5, 1, 2, 3, 4, 5, 1, 2, 3, 4, 5, 1, 2, 3, 4, 5, 1, 5, 3, 1, 2, 3, 4, 5, 4, 1, 1, 2, 3, 4, 5, 1, 3, 4, 4, 1, 1, 2, 3, 4, 5, 1, 2, 3, 4, 2, 1, 1, 4, 2, 4, 4, 1, 3, 4, 5, 1, 1, 2, 3, 4, 5, 1, 2, 3, 4, 5, 3, 2, 2, 5, 1, 1, 2, 3, 4, 5, 1, 3, 5, 1, 3, 4, 5, 2, 3, 4, 5, 1, 2, 3, 5, 1, 3, 1, 2, 3, 4, 5, 5, 3, 5, 4, 5, 1, 2, 3, 4, 5, 1, 2, 3, 4, 5, 2, 1, 4, 1, 3, 5, 1, 1, 2, 3, 4, 5, 1, 2, 3, 4, 5, 1, 2, 3, 4, 5, 3, 3, 1, 2, 3, 4, 5, 1, 1, 3, 4, 5, 2, 2, 5, 4, 5, 1, 2, 1, 4, 1, 2, 3, 4, 5, 5, 1, 2, 3, 4, 1, 4, 1, 3, 4, 5, 4, 1, 2, 3, 4, 1, 2, 3, 4, 5, 1, 1, 4, 2, 4, 5, 3, 5, 1, 2, 3, 4, 5, 1, 2, 4, 1, 3, 5, 1, 2, 4, 1, 2, 3, 4, 5, 1, 1, 2, 3, 1, 3, 4, 5, 2, 1, 2, 3, 4, 5, 4, 2, 3, 4, 5, 1, 2, 3, 4, 5, 3, 1, 2, 3, 5, 1, 2, 3, 4, 5, 1, 2, 3, 4, 5, 1, 2, 3, 4, 5, 1, 1, 2, 3, 4, 5, 2, 4, 2, 5, 4, 3, 1, 2, 3, 4, 5, 3, 2, 3, 5, 1, 2, 3, 4, 5, 1, 2, 3, 4, 5, 1, 2, 3, 1, 2, 3, 4, 5, 1, 2, 3, 4, 5, 1, 2, 3, 4, 5, 4, 1, 2, 3, 4, 5, 3, 3, 4, 5, 5, 4, 1, 2, 4, 1, 2, 3, 4, 5, 1, 1, 3, 4, 5, 1, 2, 3, 4, 5, 3, 3, 1, 2, 3, 4, 5, 3, 4, 5, 1, 2, 3, 4, 5, 1, 2, 3, 5, 2, 3, 4, 5, 2, 3, 4, 1, 2, 3, 4, 5, 2, 1, 2, 3, 4, 5, 2, 3, 4, 5, 1, 1, 2, 3, 1, 2, 3, 4, 5, 1, 2, 3, 4, 5, 4, 1, 2, 3, 4, 5, 1, 2, 3, 4, 5, 1, 2, 3, 4, 5, 2, 1, 2, 3, 4, 5, 2, 4, 1, 1, 3, 5, 1, 1, 4, 1, 2, 3, 4, 5, 2, 3, 4], \"Freq\": [0.7948358654975891, 0.8945303559303284, 0.8597380518913269, 0.895173966884613, 0.8692521452903748, 0.8388656377792358, 0.8935951590538025, 0.0744662657380104, 0.9552484750747681, 0.1619945913553238, 0.3608061373233795, 0.30926239490509033, 0.15463119745254517, 0.8015650510787964, 0.8933125734329224, 0.9131789803504944, 0.23841442167758942, 0.07629261165857315, 0.3337801992893219, 0.13351207971572876, 0.2098046839237213, 0.139367014169693, 0.16184556484222412, 0.37763965129852295, 0.1933155357837677, 0.12587988376617432, 0.9047606587409973, 0.838593065738678, 0.05452880635857582, 0.16358640789985657, 0.19630369544029236, 0.4580419659614563, 0.11996337026357651, 0.8933053612709045, 0.16291125118732452, 0.27437683939933777, 0.28295111656188965, 0.27437683939933777, 0.04497779905796051, 0.04497779905796051, 0.8096004128456116, 0.08995559811592102, 0.8520626425743103, 0.11940709501504898, 0.8358496427536011, 0.8595468401908875, 0.02541576512157917, 0.3642926514148712, 0.2541576623916626, 0.3558207154273987, 0.05634044483304024, 0.11268088966608047, 0.8451066613197327, 0.8933157324790955, 0.8690466284751892, 0.9557230472564697, 0.9525654911994934, 0.6386069059371948, 0.08514758944511414, 0.2980165481567383, 0.8933084011077881, 0.8944045305252075, 0.7312180399894714, 0.0860256552696228, 0.1720513105392456, 0.9219366908073425, 0.07091820985078812, 0.0546482615172863, 0.9290204644203186, 0.16006189584732056, 0.4601779580116272, 0.170065775513649, 0.06002321466803551, 0.15005803108215332, 0.9030551910400391, 0.9277858734130859, 0.8951582312583923, 0.8943430781364441, 0.8602632880210876, 0.0034928671084344387, 0.05588587373495102, 0.45057985186576843, 0.42787620425224304, 0.061125174164772034, 0.9550994634628296, 0.8919005393981934, 0.8685128688812256, 0.8196606040000916, 0.23949065804481506, 0.7402438521385193, 0.11422155052423477, 0.012691283598542213, 0.7360944747924805, 0.10153026878833771, 0.03807385265827179, 0.1008012667298317, 0.033600419759750366, 0.1008012667298317, 0.23520295321941376, 0.5040063261985779, 0.11852588504552841, 0.8296812176704407, 0.8385890126228333, 0.15215584635734558, 0.8368571400642395, 0.19695189595222473, 0.08952359110116959, 0.5729509592056274, 0.05371415615081787, 0.08952359110116959, 0.801673948764801, 0.07570547610521317, 0.24730455875396729, 0.2624456584453583, 0.2573986053466797, 0.15141095221042633, 0.5817877054214478, 0.1745363175868988, 0.0872681587934494, 0.058178771287202835, 0.0872681587934494, 0.7949443459510803, 0.11852527409791946, 0.8296768665313721, 0.13412357866764069, 0.10729886591434479, 0.10729886591434479, 0.6437931656837463, 0.0815894678235054, 0.09790735691785812, 0.04895367845892906, 0.03263578563928604, 0.7179872989654541, 0.7948560118675232, 0.8386144042015076, 0.8690842986106873, 0.05108220875263214, 0.22135624289512634, 0.21568043529987335, 0.28379005193710327, 0.22703203558921814, 0.1492866575717926, 0.8957199454307556, 0.8943647742271423, 0.9568312764167786, 0.8016411662101746, 0.07934599369764328, 0.8728058934211731, 0.7948440909385681, 0.02823297679424286, 0.1411648839712143, 0.35291218757629395, 0.4376111328601837, 0.04234946519136429, 0.8515003323554993, 0.8520622849464417, 0.7122435569763184, 0.15827634930610657, 0.07913817465305328, 0.8830876350402832, 0.08028069138526917, 0.740526556968689, 0.18513163924217224, 0.053605083376169205, 0.09648915380239487, 0.3109094798564911, 0.4395616948604584, 0.08576813340187073, 0.9131662249565125, 0.8016760349273682, 0.5335289239883423, 0.22865524888038635, 0.22865524888038635, 0.7943324446678162, 0.8364307284355164, 0.10455384105443954, 0.8196808695793152, 0.06730128824710846, 0.24677139520645142, 0.3533317744731903, 0.21312075853347778, 0.1121688187122345, 0.01825818233191967, 0.23735636472702026, 0.20083999633789062, 0.3742927312850952, 0.1734527200460434, 0.1012665405869484, 0.1518998146057129, 0.36889952421188354, 0.16636645793914795, 0.21699972450733185, 0.8196811079978943, 0.17311371862888336, 0.039344023913145065, 0.5822916030883789, 0.1495072990655899, 0.05508163571357727, 0.8493888974189758, 0.0849388837814331, 0.0849388837814331, 0.8690056800842285, 0.9284265637397766, 0.06177445128560066, 0.13384464383125305, 0.2985765039920807, 0.3500552177429199, 0.1544361263513565, 0.9436768293380737, 0.05011896416544914, 0.701665461063385, 0.17541636526584625, 0.07517844438552856, 0.386756032705307, 0.3315051794052124, 0.25783735513687134, 0.018416954204440117, 0.018416954204440117, 0.8034811019897461, 0.08457695692777634, 0.08457695692777634, 0.46086937189102173, 0.14664025604724884, 0.14664025604724884, 0.2513832747936249, 0.010949330404400826, 0.4160745441913605, 0.4160745441913605, 0.14234128594398499, 0.0046900371089577675, 0.08911070972681046, 0.34706273674964905, 0.33299264311790466, 0.22512178122997284, 0.5134634375572205, 0.03209146484732628, 0.06418292969465256, 0.19254878163337708, 0.22464025020599365, 0.04722680523991585, 0.20178724825382233, 0.2640407681465149, 0.20178724825382233, 0.2833608090877533, 0.9525734782218933, 0.10861605405807495, 0.8689284324645996, 0.8950050473213196, 0.08259910345077515, 0.23403078317642212, 0.24091404676437378, 0.2546805739402771, 0.19273123145103455, 0.022875988855957985, 0.05718997120857239, 0.3774538040161133, 0.4003297984600067, 0.16013191640377045, 0.7948524951934814, 0.8860437870025635, 0.11813917011022568, 0.8949843645095825, 0.9181481003761292, 0.794815719127655, 0.08215077966451645, 0.9036585688591003, 0.8602739572525024, 0.8918637037277222, 0.09515821188688278, 0.34664779901504517, 0.17672240734100342, 0.1835194230079651, 0.19711343944072723, 0.10860970616340637, 0.868877649307251, 0.8514704704284668, 0.7118173241615295, 0.06280741095542908, 0.12561482191085815, 0.020935803651809692, 0.08374321460723877, 0.8690952658653259, 0.09451732784509659, 0.18903465569019318, 0.22054043412208557, 0.24416977167129517, 0.2520461976528168, 0.9771137833595276, 0.6375007033348083, 0.19615407288074493, 0.09807703644037247, 0.3994959890842438, 0.1498109996318817, 0.2996219992637634, 0.04993699863553047, 0.07490549981594086, 0.7952346205711365, 0.8689881563186646, 0.9548934102058411, 0.8197171688079834, 0.15137749910354614, 0.07568874955177307, 0.38601264357566833, 0.2800484001636505, 0.10596425086259842, 0.0629274919629097, 0.9439123272895813, 0.2835570275783539, 0.0654362365603447, 0.305369108915329, 0.19630871713161469, 0.1454138606786728, 0.21696989238262177, 0.759394645690918, 0.7943942546844482, 0.047109682112932205, 0.047109682112932205, 0.09421936422586441, 0.23554842174053192, 0.5653162002563477, 0.9568312168121338, 0.7943395972251892, 0.18066361546516418, 0.17313596606254578, 0.33874428272247314, 0.1957189291715622, 0.11291476339101791, 0.1223522499203682, 0.15731003880500793, 0.37579619884490967, 0.22285588085651398, 0.11798252910375595, 0.08465851098299026, 0.21164627373218536, 0.32452428340911865, 0.23986577987670898, 0.1481523960828781, 0.7943371534347534, 0.009947193786501884, 0.03978877514600754, 0.35809895396232605, 0.41778212785720825, 0.17904947698116302, 0.021739842370152473, 0.30435776710510254, 0.4174049496650696, 0.16087482869625092, 0.09565529972314835, 0.059680525213479996, 0.24910132586956024, 0.5137714743614197, 0.11417143791913986, 0.06227533146739006, 0.1207568570971489, 0.3698178827762604, 0.29434484243392944, 0.052831124514341354, 0.16604067385196686, 0.41204091906547546, 0.04578232392668724, 0.3891497552394867, 0.02289116196334362, 0.11445581167936325, 0.8595340251922607, 0.9386728405952454, 0.8386078476905823, 0.0930313915014267, 0.03101046197116375, 0.29459938406944275, 0.1860627830028534, 0.4031360149383545, 0.9377046823501587, 0.8594953417778015, 0.04898318648338318, 0.4604419469833374, 0.31349238753318787, 0.06857646256685257, 0.10776300728321075, 0.6384620070457458, 0.24556230008602142, 0.09822492301464081, 0.8602765798568726, 0.8595810532569885, 0.0358569510281086, 0.21912580728530884, 0.23904633522033691, 0.3904423415660858, 0.11155495792627335, 0.10466187447309494, 0.6541367173194885, 0.20932374894618988, 0.05233093723654747, 0.7943452000617981, 0.8018324375152588, 0.09596916288137436, 0.8637225031852722, 0.7932862043380737, 0.891830563545227, 0.8603783845901489, 0.6518728733062744, 0.17778350412845612, 0.11852233856916428, 0.05926116928458214, 0.9042352437973022, 0.01985243521630764, 0.09926217794418335, 0.2183767855167389, 0.49631088972091675, 0.15881948173046112, 0.3021821677684784, 0.16672120988368988, 0.3021821677684784, 0.1458810567855835, 0.09378067404031754, 0.9131767749786377, 0.954422116279602, 0.9277898669242859, 0.8949785828590393, 0.8591005802154541, 0.5024322271347046, 0.0398755744099617, 0.07177603244781494, 0.1595022976398468, 0.23127833008766174, 0.05593855306506157, 0.27969276905059814, 0.6712626218795776, 0.8597311973571777, 0.18085937201976776, 0.13564452528953552, 0.67822265625, 0.11807285994291306, 0.6034834980964661, 0.052476827055215836, 0.22302651405334473, 0.08099381625652313, 0.17818638682365417, 0.17818638682365417, 0.5669566988945007, 0.7327205538749695, 0.18318013846874237, 0.20820748805999756, 0.4580564796924591, 0.18044649064540863, 0.06940249353647232, 0.08328299224376678, 0.8520342111587524, 0.09925222396850586, 0.8932700157165527, 0.956841230392456, 0.8957722783088684, 0.19953610002994537, 0.14965207874774933, 0.2909901440143585, 0.1829081028699875, 0.1829081028699875, 0.04316726326942444, 0.14029361307621002, 0.3669217526912689, 0.30217084288597107, 0.14568951725959778, 0.7943088412284851, 0.9028603434562683, 0.8197310566902161, 0.5340073108673096, 0.2288602739572525, 0.19071689248085022, 0.8595694303512573, 0.5414486527442932, 0.12739968299865723, 0.25479936599731445, 0.06369984149932861, 0.03184992074966431, 0.15654966235160828, 0.12523972988128662, 0.6105436682701111, 0.06261986494064331, 0.04696489870548248, 0.28478965163230896, 0.1272464394569397, 0.1999586969614029, 0.3696206212043762, 0.024237416684627533, 0.8386985659599304, 0.9297061562538147, 0.07152745872735977, 0.011921243742108345, 0.011921243742108345, 0.08344870805740356, 0.8106445670127869, 0.9640476703643799, 0.6700361371040344, 0.15462371706962585, 0.15462371706962585, 0.05154123902320862, 0.8944093585014343, 0.9701888561248779, 0.7949081659317017, 0.891770601272583, 0.7949823141098022, 0.8016626238822937, 0.9544690251350403, 0.11527254432439804, 0.8069078326225281, 0.04546511173248291, 0.6819766759872437, 0.13639533519744873, 0.04546511173248291, 0.09093022346496582, 0.8520600199699402, 0.13909661769866943, 0.4489027261734009, 0.2023223638534546, 0.2023223638534546, 0.17776095867156982, 0.7999243140220642, 0.5241352915763855, 0.032758455723524094, 0.3931014835834503, 0.032758455723524094, 0.8602914810180664, 0.23205076158046722, 0.609133243560791, 0.029006345197558403, 0.14503172039985657, 0.04306669533252716, 0.08613339066505432, 0.30146685242652893, 0.5598670244216919, 0.02153334766626358, 0.9369267821311951, 0.800155520439148, 0.1000194400548935, 0.08266027271747589, 0.7439424991607666, 0.16532054543495178, 0.1516711264848709, 0.8190240859985352, 0.05226694792509079, 0.038632091134786606, 0.3204191327095032, 0.45904016494750977, 0.129531130194664, 0.12829676270484924, 0.06414838135242462, 0.7697805166244507, 0.5928937792778015, 0.2155977338552475, 0.16169831156730652, 0.8342800736427307, 0.09269778430461884, 0.9568374156951904, 0.08852335065603256, 0.02950778417289257, 0.17704670131206512, 0.5901556611061096, 0.11803113669157028, 0.9368947744369507, 0.03264390677213669, 0.718165934085846, 0.22850733995437622, 0.02463573031127453, 0.6405289769172668, 0.17245011031627655, 0.14781437814235687, 0.7943356037139893, 0.07397983968257904, 0.07397983968257904, 0.45867499709129333, 0.05918386951088905, 0.34030723571777344, 0.8196651339530945, 0.20258192718029022, 0.5514730215072632, 0.22509102523326874, 0.011254550889134407, 0.3325650691986084, 0.11085502058267593, 0.3325650691986084, 0.14780668914318085, 0.07390334457159042, 0.8934513926506042, 0.01838345266878605, 0.01838345266878605, 0.2389848828315735, 0.7353380918502808, 0.1547568440437317, 0.12111405283212662, 0.47772765159606934, 0.12784262001514435, 0.12111405283212662, 0.1731557995080948, 0.0432889498770237, 0.6385120153427124, 0.1298668533563614, 0.010822237469255924, 0.08627044409513474, 0.038342420011758804, 0.5751363039016724, 0.1437840759754181, 0.15336968004703522, 0.936964213848114, 0.1691552996635437, 0.10874269157648087, 0.3564343750476837, 0.15405215322971344, 0.21144412457942963, 0.054662130773067474, 0.9292562007904053, 0.8503820896148682, 0.928427517414093, 0.8196861147880554, 0.9296794533729553, 0.2982129454612732, 0.27454525232315063, 0.17040739953517914, 0.21774278581142426, 0.042601849883794785, 0.8933039903640747, 0.8676930069923401, 0.838606059551239, 0.8521314263343811, 0.1606648862361908, 0.39080649614334106, 0.15198031067848206, 0.07381900399923325, 0.21711471676826477, 0.902909517288208, 0.22624406218528748, 0.16454114019870758, 0.5758939981460571, 0.020567642524838448, 0.8595740795135498, 0.18196776509284973, 0.8006581664085388, 0.07759150117635727, 0.17846044898033142, 0.38278472423553467, 0.15776938199996948, 0.20432429015636444, 0.06302910298109055, 0.16545139253139496, 0.29938822984695435, 0.2521164119243622, 0.21272322535514832, 0.06991295516490936, 0.21609459817409515, 0.22245031595230103, 0.27965182065963745, 0.20973888039588928, 0.9686010479927063, 0.024732641875743866, 0.12366320192813873, 0.4616759717464447, 0.21434955298900604, 0.17312848567962646, 0.9131975769996643, 0.21044500172138214, 0.15031786262989044, 0.6613985896110535, 0.9770747423171997, 0.8605368137359619, 0.7024126648902893, 0.07024126499891281, 0.21072378754615784, 0.06106097623705864, 0.46628379821777344, 0.28865188360214233, 0.011101995594799519, 0.17208093404769897, 0.8595501184463501, 0.06757333874702454, 0.28380802273750305, 0.20272000133991241, 0.43246933817863464, 0.1417292058467865, 0.1674981564283371, 0.3951238691806793, 0.1674981564283371, 0.12454991042613983, 0.8386064767837524, 0.8690229654312134, 0.08665908128023148, 0.11817147582769394, 0.40966111421585083, 0.23634295165538788, 0.15756195783615112, 0.18008844554424286, 0.7803832292556763, 0.03001474030315876, 0.19770042598247528, 0.09885021299123764, 0.059310127049684525, 0.15816034376621246, 0.4942510724067688, 0.6815294027328491, 0.05679411441087723, 0.11358822882175446, 0.11358822882175446, 0.19255083799362183, 0.04813770949840546, 0.7220656275749207, 0.04813770949840546, 0.7303910255432129, 0.16230912506580353, 0.12173184007406235, 0.19097299873828888, 0.2588745057582855, 0.23341144621372223, 0.1358030140399933, 0.17399762570858002, 0.793319821357727, 0.08073412626981735, 0.25027579069137573, 0.298716276884079, 0.17761507630348206, 0.1937619000673294, 0.37461918592453003, 0.3596344292163849, 0.20978674292564392, 0.04495430365204811, 0.9042776823043823, 0.8750956058502197, 0.05469347536563873, 0.05469347536563873, 0.01005573570728302, 0.12066882848739624, 0.4525081217288971, 0.4022294282913208, 0.01005573570728302, 0.01811649464070797, 0.05434948205947876, 0.4589511752128601, 0.30194157361984253, 0.1690872758626938, 0.8196617364883423, 0.18496842682361603, 0.19040867686271667, 0.2393709123134613, 0.26657214760780334, 0.1251257061958313, 0.07813137024641037, 0.42972254753112793, 0.15626274049282074, 0.21486127376556396, 0.11719705909490585, 0.023739805445075035, 0.246893972158432, 0.4415603578090668, 0.2706337571144104, 0.014243883080780506, 0.8514675498008728, 0.07047239691019058, 0.20501062273979187, 0.591541051864624, 0.07260792702436447, 0.05979476496577263, 0.7943345308303833, 0.8196938633918762, 0.8595513105392456, 0.7368361353874207, 0.09210451692342758, 0.09210451692342758, 0.8595483303070068, 0.7622860074043274, 0.10889799892902374, 0.3348357081413269, 0.22322380542755127, 0.09300991892814636, 0.037203967571258545, 0.29763174057006836, 0.7940260171890259, 0.8692806363105774, 0.9179840683937073], \"Term\": [\"100\\u2013108\", \"\\\\setlength{\\\\oddsidemargin}{-69pt\", \"\\\\usepackage{amssymb\", \"\\\\usepackage{mathrsfs\", \"\\\\usepackage{upgreek\", \"\\\\usepackage{wasysym\", \"acetylation\", \"acetylation\", \"actin\", \"activity\", \"activity\", \"activity\", \"activity\", \"admixture\", \"adpmul21aph\", \"adpmul21apr\", \"among\", \"among\", \"among\", \"among\", \"among\", \"analysis\", \"analysis\", \"analysis\", \"analysis\", \"analysis\", \"ancestry\", \"andersen\", \"animal\", \"animal\", \"animal\", \"animal\", \"animal\", \"antennary\", \"antibody\", \"antibody\", \"antibody\", \"antibody\", \"assembly\", \"assembly\", \"assembly\", \"assembly\", \"assortativity\", \"autophagy\", \"autophagy\", \"barman\", \"binding\", \"binding\", \"binding\", \"binding\", \"bird\", \"bird\", \"bird\", \"bladder\", \"bmp38\", \"bocavirus\", \"botswana\", \"brain\", \"brain\", \"brain\", \"bvlps\", \"cage\", \"calf\", \"calf\", \"calf\", \"camel\", \"camel\", \"cancer\", \"cancer\", \"case\", \"case\", \"case\", \"case\", \"case\", \"caspase-6\", \"cd200r1+/+\", \"cd200r1\\u2212/\\u2212\", \"cd41a\", \"ceacam1\\u2013/\", \"cell\", \"cell\", \"cell\", \"cell\", \"cell\", \"chaffeensis\", \"chaperone\", \"charge\", \"chchd2\", \"chicken\", \"chicken\", \"child\", \"child\", \"child\", \"child\", \"child\", \"class\", \"class\", \"class\", \"class\", \"class\", \"cleft\", \"cleft\", \"cloacal\", \"cohort\", \"cohort\", \"common\", \"common\", \"common\", \"common\", \"common\", \"company\", \"compare\", \"compare\", \"compare\", \"compare\", \"compare\", \"compound\", \"compound\", \"compound\", \"compound\", \"compound\", \"concanamycin\", \"conjugation\", \"conjugation\", \"construct\", \"construct\", \"construct\", \"construct\", \"contact\", \"contact\", \"contact\", \"contact\", \"contact\", \"containment\", \"contamination\", \"contigs\", \"control\", \"control\", \"control\", \"control\", \"control\", \"covid-19\", \"covid-19\", \"cpv-2c\", \"creatinine\", \"cress\", \"crystal\", \"crystal\", \"cuff\", \"culture\", \"culture\", \"culture\", \"culture\", \"culture\", \"cyp2c19\", \"cyp3a2\", \"damage\", \"damage\", \"damage\", \"dataset\", \"dataset\", \"datasets\", \"datasets\", \"decrease\", \"decrease\", \"decrease\", \"decrease\", \"decrease\", \"ded1p\", \"dempo\", \"dengue\", \"dengue\", \"dengue\", \"denv1\", \"depletion\", \"depletion\", \"dequenching\", \"detect\", \"detect\", \"detect\", \"detect\", \"detect\", \"difference\", \"difference\", \"difference\", \"difference\", \"difference\", \"different\", \"different\", \"different\", \"different\", \"different\", \"dioc18\", \"disease\", \"disease\", \"disease\", \"disease\", \"disease\", \"dromedary\", \"dromedary\", \"dromedary\", \"dtmuv\", \"ecosystem\", \"effect\", \"effect\", \"effect\", \"effect\", \"effect\", \"egr-1\", \"entry\", \"entry\", \"entry\", \"entry\", \"epidemic\", \"epidemic\", \"epidemic\", \"epidemic\", \"epidemic\", \"episode\", \"episode\", \"episode\", \"exposure\", \"exposure\", \"exposure\", \"exposure\", \"express\", \"express\", \"express\", \"express\", \"expression\", \"expression\", \"expression\", \"expression\", \"expression\", \"female\", \"female\", \"female\", \"female\", \"female\", \"figure\", \"figure\", \"figure\", \"figure\", \"figure\", \"flotation\", \"focal\", \"focal\", \"forskolin\", \"found\", \"found\", \"found\", \"found\", \"found\", \"gene\", \"gene\", \"gene\", \"gene\", \"gene\", \"globulin\", \"glycans\", \"glycans\", \"glycosites\", \"gondii\", \"google\", \"grade\", \"grade\", \"gradient\", \"granzyme\", \"group\", \"group\", \"group\", \"group\", \"group\", \"guangdong\", \"guangdong\", \"h275y\", \"health\", \"health\", \"health\", \"health\", \"health\", \"helicase\", \"higher\", \"higher\", \"higher\", \"higher\", \"higher\", \"histone\", \"hiv-1\", \"hiv-1\", \"hiv-1\", \"hospital\", \"hospital\", \"hospital\", \"hospital\", \"hospital\", \"hpiv-2\", \"hrluc\", \"hsc70\", \"hspc117\", \"human\", \"human\", \"human\", \"human\", \"human\", \"hydrophobic\", \"hydrophobic\", \"identify\", \"identify\", \"identify\", \"identify\", \"identify\", \"ifitm3\", \"ifitm3\", \"il1rap\", \"immunization\", \"immunization\", \"immunization\", \"immunization\", \"immunization\", \"impairment\", \"import\", \"include\", \"include\", \"include\", \"include\", \"include\", \"increase\", \"increase\", \"increase\", \"increase\", \"increase\", \"indicate\", \"indicate\", \"indicate\", \"indicate\", \"indicate\", \"indonesia\", \"induce\", \"induce\", \"induce\", \"induce\", \"induce\", \"infect\", \"infect\", \"infect\", \"infect\", \"infect\", \"infection\", \"infection\", \"infection\", \"infection\", \"infection\", \"influenza\", \"influenza\", \"influenza\", \"influenza\", \"influenza\", \"information\", \"information\", \"information\", \"information\", \"information\", \"infrastructure\", \"infusion\", \"innate\", \"interaction\", \"interaction\", \"interaction\", \"interaction\", \"interaction\", \"isg20\", \"islander\", \"isolate\", \"isolate\", \"isolate\", \"isolate\", \"isolate\", \"knowledge\", \"knowledge\", \"knowledge\", \"l1-rtp\", \"learning\", \"level\", \"level\", \"level\", \"level\", \"level\", \"lineage\", \"lineage\", \"lineage\", \"lineage\", \"lion\", \"lt\\u03b2r\\u2212/\\u2212\", \"malaria\", \"malaria\", \"malaysia\", \"marking\", \"marneffei\", \"medical\", \"medical\", \"medical\", \"medical\", \"meeting\", \"membrane\", \"membrane\", \"membrane\", \"membrane\", \"membrane\", \"method\", \"method\", \"method\", \"method\", \"method\", \"mir-10a-5p\", \"mir-4331\", \"miseq\", \"mmp-9\", \"mobile\", \"model\", \"model\", \"model\", \"model\", \"model\", \"modification\", \"modification\", \"modification\", \"montelukast\", \"motif\", \"motif\", \"motif\", \"mutant\", \"mutant\", \"mutant\", \"mutant\", \"mutation\", \"mutation\", \"mutation\", \"mutation\", \"national\", \"national\", \"negative\", \"negative\", \"negative\", \"negative\", \"negative\", \"nontarget\", \"nsp10\", \"nsp10\", \"nsp13\", \"nsp16\", \"number\", \"number\", \"number\", \"number\", \"number\", \"observe\", \"observe\", \"observe\", \"observe\", \"observe\", \"od450\", \"outperform\", \"p3m2e\", \"participant\", \"participant\", \"participant\", \"pasteurella\", \"pathogen\", \"pathogen\", \"pathogen\", \"pathogen\", \"pathogen\", \"pathway\", \"pathway\", \"pathway\", \"pathway\", \"pathway\", \"patient\", \"patient\", \"patient\", \"patient\", \"patient\", \"pbmcs\", \"pedvpt\", \"peptide\", \"peptide\", \"peptide\", \"peptide\", \"peptide\", \"perception\", \"performance\", \"performance\", \"performance\", \"performance\", \"phellodendron\", \"phosphor\", \"phosphorylated\", \"photolyases\", \"pilgrim\", \"plan\", \"platelet\", \"pleuropneumoniae\", \"pleuropneumoniae\", \"pneumoniae\", \"pneumoniae\", \"pneumoniae\", \"pneumoniae\", \"pneumoniae\", \"pollution\", \"positive\", \"positive\", \"positive\", \"positive\", \"power\", \"power\", \"prediction\", \"prediction\", \"prediction\", \"prediction\", \"prnt50\", \"probe\", \"probe\", \"probe\", \"probe\", \"produce\", \"produce\", \"produce\", \"produce\", \"produce\", \"professional\", \"program\", \"program\", \"proliferation\", \"proliferation\", \"proliferation\", \"protease\", \"protease\", \"protein\", \"protein\", \"protein\", \"protein\", \"protein\", \"prrsv\", \"prrsv\", \"prrsv\", \"public\", \"public\", \"public\", \"puncta\", \"puncta\", \"puppy\", \"purify\", \"purify\", \"purify\", \"purify\", \"purify\", \"rabies\", \"read\", \"read\", \"read\", \"receptor\", \"receptor\", \"receptor\", \"receptor\", \"rectal\", \"region\", \"region\", \"region\", \"region\", \"region\", \"renal\", \"replication\", \"replication\", \"replication\", \"replication\", \"report\", \"report\", \"report\", \"report\", \"report\", \"resident\", \"residue\", \"residue\", \"residue\", \"residue\", \"respectively\", \"respectively\", \"respectively\", \"respectively\", \"respectively\", \"respiratory\", \"respiratory\", \"respiratory\", \"respiratory\", \"respiratory\", \"response\", \"response\", \"response\", \"response\", \"response\", \"rest\", \"result\", \"result\", \"result\", \"result\", \"result\", \"rnase\", \"rnase\", \"rocaglamide\", \"rosiglitazone\", \"rv1a\\u2010ilov\", \"rzh\\u03b4nss\", \"sample\", \"sample\", \"sample\", \"sample\", \"sample\", \"sampler\", \"saracatinib\", \"scarb2\", \"scfvs\", \"sequence\", \"sequence\", \"sequence\", \"sequence\", \"sequence\", \"seronegative\", \"serum\", \"serum\", \"serum\", \"serum\", \"service\", \"shedding\", \"shedding\", \"show\", \"show\", \"show\", \"show\", \"show\", \"significant\", \"significant\", \"significant\", \"significant\", \"significant\", \"significantly\", \"significantly\", \"significantly\", \"significantly\", \"significantly\", \"signr\", \"similar\", \"similar\", \"similar\", \"similar\", \"similar\", \"sirt1\", \"site\", \"site\", \"site\", \"slippage\", \"splenocytes\", \"stool\", \"stool\", \"stool\", \"strain\", \"strain\", \"strain\", \"strain\", \"strain\", \"strings\", \"structure\", \"structure\", \"structure\", \"structure\", \"study\", \"study\", \"study\", \"study\", \"study\", \"subul117\", \"subul97\", \"suggest\", \"suggest\", \"suggest\", \"suggest\", \"suggest\", \"supernatant\", \"supernatant\", \"supernatant\", \"supplementary\", \"supplementary\", \"supplementary\", \"supplementary\", \"supplementary\", \"survey\", \"survey\", \"survey\", \"survey\", \"survival\", \"survival\", \"survival\", \"survival\", \"swab\", \"swab\", \"swab\", \"table\", \"table\", \"table\", \"table\", \"table\", \"thailand\", \"three\", \"three\", \"three\", \"three\", \"three\", \"titer\", \"titer\", \"titer\", \"titer\", \"topology\", \"training\", \"training\", \"training\", \"treat\", \"treat\", \"treat\", \"treat\", \"treat\", \"treatment\", \"treatment\", \"treatment\", \"treatment\", \"treatment\", \"trim27\", \"using\", \"using\", \"using\", \"using\", \"using\", \"value\", \"value\", \"value\", \"value\", \"value\", \"viral\", \"viral\", \"viral\", \"viral\", \"viral\", \"viruliferous\", \"virus\", \"virus\", \"virus\", \"virus\", \"virus\", \"vlp100\", \"vsig4\", \"wean\", \"weaning\", \"weaning\", \"weaning\", \"wildlife\", \"worker\", \"worker\", \"would\", \"would\", \"would\", \"would\", \"would\", \"yamagata\", \"zbmd\\u20101\", \"\\u03b11-at\"]}, \"R\": 30, \"lambda.step\": 0.01, \"plot.opts\": {\"xlab\": \"PC1\", \"ylab\": \"PC2\"}, \"topic.order\": [1, 2, 3, 4, 5]};\n",
       "\n",
       "function LDAvis_load_lib(url, callback){\n",
       "  var s = document.createElement('script');\n",
       "  s.src = url;\n",
       "  s.async = true;\n",
       "  s.onreadystatechange = s.onload = callback;\n",
       "  s.onerror = function(){console.warn(\"failed to load library \" + url);};\n",
       "  document.getElementsByTagName(\"head\")[0].appendChild(s);\n",
       "}\n",
       "\n",
       "if(typeof(LDAvis) !== \"undefined\"){\n",
       "   // already loaded: just create the visualization\n",
       "   !function(LDAvis){\n",
       "       new LDAvis(\"#\" + \"ldavis_el254691125197852323437734016\", ldavis_el254691125197852323437734016_data);\n",
       "   }(LDAvis);\n",
       "}else if(typeof define === \"function\" && define.amd){\n",
       "   // require.js is available: use it to load d3/LDAvis\n",
       "   require.config({paths: {d3: \"https://cdnjs.cloudflare.com/ajax/libs/d3/3.5.5/d3.min\"}});\n",
       "   require([\"d3\"], function(d3){\n",
       "      window.d3 = d3;\n",
       "      LDAvis_load_lib(\"https://cdn.rawgit.com/bmabey/pyLDAvis/files/ldavis.v1.0.0.js\", function(){\n",
       "        new LDAvis(\"#\" + \"ldavis_el254691125197852323437734016\", ldavis_el254691125197852323437734016_data);\n",
       "      });\n",
       "    });\n",
       "}else{\n",
       "    // require.js not available: dynamically load d3 & LDAvis\n",
       "    LDAvis_load_lib(\"https://cdnjs.cloudflare.com/ajax/libs/d3/3.5.5/d3.min.js\", function(){\n",
       "         LDAvis_load_lib(\"https://cdn.rawgit.com/bmabey/pyLDAvis/files/ldavis.v1.0.0.js\", function(){\n",
       "                 new LDAvis(\"#\" + \"ldavis_el254691125197852323437734016\", ldavis_el254691125197852323437734016_data);\n",
       "            })\n",
       "         });\n",
       "}\n",
       "</script>"
      ],
      "text/plain": [
       "<IPython.core.display.HTML object>"
      ]
     },
     "execution_count": 33,
     "metadata": {},
     "output_type": "execute_result"
    }
   ],
   "source": [
    "dictionary = gensim.corpora.Dictionary.load('dictionary.gensim')\n",
    "corpus = pickle.load(open('corpus.pkl', 'rb'))\n",
    "lda = gensim.models.ldamodel.LdaModel.load('model5.gensim')\n",
    "import pyLDAvis.gensim\n",
    "lda_display = pyLDAvis.gensim.prepare(lda, corpus, dictionary, sort_topics=False)\n",
    "pyLDAvis.display(lda_display)"
   ]
  },
  {
   "cell_type": "code",
   "execution_count": 34,
   "metadata": {},
   "outputs": [],
   "source": [
    "pyLDAvis.save_html(lda_display, 'lda.html')"
   ]
  },
  {
   "cell_type": "code",
   "execution_count": null,
   "metadata": {},
   "outputs": [],
   "source": []
  }
 ],
 "metadata": {
  "kernelspec": {
   "display_name": "Python 3",
   "language": "python",
   "name": "python3"
  },
  "language_info": {
   "codemirror_mode": {
    "name": "ipython",
    "version": 3
   },
   "file_extension": ".py",
   "mimetype": "text/x-python",
   "name": "python",
   "nbconvert_exporter": "python",
   "pygments_lexer": "ipython3",
   "version": "3.7.3"
  }
 },
 "nbformat": 4,
 "nbformat_minor": 4
}
